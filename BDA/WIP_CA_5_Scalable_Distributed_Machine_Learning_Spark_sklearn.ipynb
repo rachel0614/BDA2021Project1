{
  "nbformat": 4,
  "nbformat_minor": 0,
  "metadata": {
    "colab": {
      "name": "WIP-CA_5_Scalable_Distributed_Machine_Learning_Spark_sklearn.ipynb",
      "provenance": [],
      "collapsed_sections": [],
      "toc_visible": true
    },
    "kernelspec": {
      "name": "python3",
      "display_name": "Python 3"
    }
  },
  "cells": [
    {
      "cell_type": "markdown",
      "metadata": {
        "id": "7So9u809e1n5"
      },
      "source": [
        "*Warning*: Distribution/sharing of this notebook and other lab notebooks on the internet and other sources is strictly prohibited. You should not provide this notebook to anyone else. you should just use it for the purpose of this assessment only.\r\n",
        "\r\n",
        "You should attempt and submit your work. you can refer to sources/APIs to complete this taks. Copying from each other even a part or so is strictly prohibited and may result in serious action.\r\n"
      ]
    },
    {
      "cell_type": "markdown",
      "metadata": {
        "id": "L1Y12dPVqHv4"
      },
      "source": [
        "# Assessment 5 : Big Data Analytics using Machine Learning\n",
        "## Due Feburary 25th, 5pm (Firm)\n",
        "### Total points: 100 ( weighted over 35)\n",
        "\n",
        "This assessmet will enable you achieve essential experience of machine learning using sklearn and scalable approach to machine learning based on park ML! \n",
        "\n",
        "The focus of this assessment is to explore what makes videos popular on various platforms, e.g., Netflix and YouTube. The assessment will focus on YouTube 's data.\n",
        "\n",
        "**PLEASE NOTE** There can be multiple solutions possible for this assessment. various students will end up implementing different solutions. Therefore, there is not a single solution to fit all students."
      ]
    },
    {
      "cell_type": "markdown",
      "metadata": {
        "id": "zsMMQ1RnqoYw"
      },
      "source": [
        "### Required Libraries \n",
        "Setup the libraries using the following cells. You should select Java 8 when prompted."
      ]
    },
    {
      "cell_type": "code",
      "metadata": {
        "id": "V5Ea650lhvf2",
        "colab": {
          "base_uri": "https://localhost:8080/"
        },
        "outputId": "bbe29635-e455-4960-b9bb-28a3341191fd"
      },
      "source": [
        "! sudo apt install openjdk-8-jdk\n",
        "! sudo update-alternatives --config java"
      ],
      "execution_count": 4,
      "outputs": [
        {
          "output_type": "stream",
          "text": [
            "Reading package lists... Done\n",
            "Building dependency tree       \n",
            "Reading state information... Done\n",
            "openjdk-8-jdk is already the newest version (8u282-b08-0ubuntu1~18.04).\n",
            "0 upgraded, 0 newly installed, 0 to remove and 10 not upgraded.\n",
            "There are 2 choices for the alternative java (providing /usr/bin/java).\n",
            "\n",
            "  Selection    Path                                            Priority   Status\n",
            "------------------------------------------------------------\n",
            "  0            /usr/lib/jvm/java-11-openjdk-amd64/bin/java      1111      auto mode\n",
            "  1            /usr/lib/jvm/java-11-openjdk-amd64/bin/java      1111      manual mode\n",
            "* 2            /usr/lib/jvm/java-8-openjdk-amd64/jre/bin/java   1081      manual mode\n",
            "\n",
            "Press <enter> to keep the current choice[*], or type selection number: 2\n"
          ],
          "name": "stdout"
        }
      ]
    },
    {
      "cell_type": "code",
      "metadata": {
        "id": "678WFOguE-CF",
        "colab": {
          "base_uri": "https://localhost:8080/"
        },
        "outputId": "e7e10c94-7663-48bf-baeb-180822191397"
      },
      "source": [
        "!pip3 install pandas==1.0.5"
      ],
      "execution_count": 20,
      "outputs": [
        {
          "output_type": "stream",
          "text": [
            "Requirement already satisfied: pandas==1.0.5 in /usr/local/lib/python3.6/dist-packages (1.0.5)\n",
            "Requirement already satisfied: python-dateutil>=2.6.1 in /usr/local/lib/python3.6/dist-packages (from pandas==1.0.5) (2.8.1)\n",
            "Requirement already satisfied: numpy>=1.13.3 in /usr/local/lib/python3.6/dist-packages (from pandas==1.0.5) (1.19.5)\n",
            "Requirement already satisfied: pytz>=2017.2 in /usr/local/lib/python3.6/dist-packages (from pandas==1.0.5) (2018.9)\n",
            "Requirement already satisfied: six>=1.5 in /usr/local/lib/python3.6/dist-packages (from python-dateutil>=2.6.1->pandas==1.0.5) (1.15.0)\n"
          ],
          "name": "stdout"
        }
      ]
    },
    {
      "cell_type": "code",
      "metadata": {
        "id": "eAqMbSa7FA6b",
        "colab": {
          "base_uri": "https://localhost:8080/"
        },
        "outputId": "f3eef4b4-79ad-4a30-fb48-ebf184f97b91"
      },
      "source": [
        "# if restart of runtime is successful, the execution of this cell should\n",
        "# prints True\n",
        "\n",
        "import pandas as pd\n",
        "print(pd.__version__ == '1.0.5')"
      ],
      "execution_count": 21,
      "outputs": [
        {
          "output_type": "stream",
          "text": [
            "True\n"
          ],
          "name": "stdout"
        }
      ]
    },
    {
      "cell_type": "code",
      "metadata": {
        "id": "NodzYeBAGpnr"
      },
      "source": [
        "import numpy as np \n",
        "import json\n",
        "import matplotlib\n",
        "import matplotlib.pyplot as plt\n",
        "from matplotlib import cm\n",
        "from datetime import datetime\n",
        "import glob\n",
        "import seaborn as sns\n",
        "import re\n",
        "import os"
      ],
      "execution_count": 22,
      "outputs": []
    },
    {
      "cell_type": "code",
      "metadata": {
        "id": "jm_TRGxorYvz",
        "colab": {
          "base_uri": "https://localhost:8080/"
        },
        "outputId": "b5f096c3-3d00-40b6-b987-d0e514ddd994"
      },
      "source": [
        "from google_drive_downloader import GoogleDriveDownloader as gdd\r\n",
        "#https://drive.google.com/file/d/1BOWMkG9wmgtjpwGhiCoQHRe-ZM7MeeZQ/view?usp=sharing\r\n",
        "# Glass data from https://archive.ics.uci.edu/ml/machine-learning-databases/glass/\r\n",
        "gdd.download_file_from_google_drive(file_id='1BOWMkG9wmgtjpwGhiCoQHRe-ZM7MeeZQ',\r\n",
        "                                    dest_path='/content/youtube_data.zip')"
      ],
      "execution_count": 8,
      "outputs": [
        {
          "output_type": "stream",
          "text": [
            "Downloading 1BOWMkG9wmgtjpwGhiCoQHRe-ZM7MeeZQ into /content/youtube_data.zip... Done.\n"
          ],
          "name": "stdout"
        }
      ]
    },
    {
      "cell_type": "code",
      "metadata": {
        "id": "6CCHrz2KwLWV",
        "colab": {
          "base_uri": "https://localhost:8080/"
        },
        "outputId": "9ace8140-4da4-478e-861d-f835ef0b9f89"
      },
      "source": [
        "!unzip /content/youtube_data.zip"
      ],
      "execution_count": 9,
      "outputs": [
        {
          "output_type": "stream",
          "text": [
            "Archive:  /content/youtube_data.zip\n",
            "   creating: youtube_data/\n",
            "  inflating: youtube_data/IN_category_id.json  \n",
            "   creating: __MACOSX/\n",
            "   creating: __MACOSX/youtube_data/\n",
            "  inflating: __MACOSX/youtube_data/._IN_category_id.json  \n",
            "  inflating: youtube_data/.DS_Store  \n",
            "  inflating: __MACOSX/youtube_data/._.DS_Store  \n",
            "  inflating: youtube_data/FR_category_id.json  \n",
            "  inflating: __MACOSX/youtube_data/._FR_category_id.json  \n",
            "  inflating: youtube_data/INvideos.csv  \n",
            "  inflating: __MACOSX/youtube_data/._INvideos.csv  \n",
            "  inflating: youtube_data/CAvideos.csv  \n",
            "  inflating: __MACOSX/youtube_data/._CAvideos.csv  \n",
            "  inflating: youtube_data/FRvideos.csv  \n",
            "  inflating: __MACOSX/youtube_data/._FRvideos.csv  \n",
            "  inflating: youtube_data/CA_category_id.json  \n",
            "  inflating: __MACOSX/youtube_data/._CA_category_id.json  \n",
            "  inflating: youtube_data/US_category_id.json  \n",
            "  inflating: __MACOSX/youtube_data/._US_category_id.json  \n",
            "  inflating: youtube_data/USvideos.csv  \n",
            "  inflating: __MACOSX/youtube_data/._USvideos.csv  \n",
            "  inflating: __MACOSX/._youtube_data  \n"
          ],
          "name": "stdout"
        }
      ]
    },
    {
      "cell_type": "markdown",
      "metadata": {
        "id": "1LUqDAYCa_kN"
      },
      "source": [
        "Import your dataset using the following cells for the Youtube videos"
      ]
    },
    {
      "cell_type": "code",
      "metadata": {
        "id": "bUWkvS3kHHve"
      },
      "source": [
        "#............................................\n",
        "#from google.colab import files\n",
        "#uploaded = files.upload()\n",
        "#!unzip /content/youtube_data.zip"
      ],
      "execution_count": 10,
      "outputs": []
    },
    {
      "cell_type": "markdown",
      "metadata": {
        "id": "lzax5Hp70oGW"
      },
      "source": [
        "# Section 5.1. : Machine Learning with Sklearn (45 points)"
      ]
    },
    {
      "cell_type": "markdown",
      "metadata": {
        "id": "Ecg1d6dwais8"
      },
      "source": [
        "## 5.1.1 Data loading and Preprocessing (5 pts)\n",
        "\n",
        "The dataset consists of a daily record of the top trending YouTube videos.\n",
        "\n",
        "To determine the year’s top-trending videos, YouTube uses a combination of factors including measuring users interactions, e.g., number of views, shares, comments and likes. \"Note that they’re not the most-viewed videos overall for the calendar year”. Top performers on the YouTube trending list are music videos (such as the famously viral “[Gangnam Style](https://www.youtube.com/watch?v=9bZkp7q19f0)”), celebrity and/or reality TV performances, and the random dude-with-a-camera viral videos that YouTube is well-known for.\n",
        "\n",
        "This dataset includes several months (and counting) of data on daily trending YouTube videos. Data is included for numerous countries, with up to 200 listed trending videos per day.\n",
        "\n",
        "Each region’s data is in a separate file. Data includes:\n",
        "\n",
        "*   Video Title\n",
        "*   Channel title\n",
        "*   Publish time\n",
        "*   Tags\n",
        "*   Views\n",
        "*   Likes\n",
        "*   Dislikes\n",
        "*   Description\n",
        "*   Comment count\n",
        "\n",
        "The data also includes a category\\_id field, which varies between regions. To retrieve the categories for a specific video, find it in the associated JSON. One such file is included for each of the five regions in the dataset.\n",
        "\n",
        "For more information on specific columns in the dataset refer to the column metadata.\n",
        "\n"
      ]
    },
    {
      "cell_type": "markdown",
      "metadata": {
        "id": "XCNsu176IR5x"
      },
      "source": [
        "#### 5.1.1.1: Combining Multiple CSV's. (2 pts.)\n",
        "\n",
        "There are multiple csv files in the dataset, each corresponding to a specific country. As a first step you need to read them and combine these csv files into a single dataframe. Use 'video_id' as your index.\n",
        "\n",
        "While combining them, you also need to create a column for \"country\" and fill it in the final dataframe. The country name can be extracted using the filename itself.\n",
        "\n",
        "Name your dataframe \"combined_data\"."
      ]
    },
    {
      "cell_type": "code",
      "metadata": {
        "id": "V_tuqP5Wahf_"
      },
      "source": [
        "import pathlib\n",
        "\n",
        "# Import all the csv files\n",
        "files = [i for i in glob.glob('/content/youtube_data/*.csv'.format('csv'))]\n",
        "sorted(files)\n",
        "\n",
        "# Task: Merge all dataframes to single dataframe \"combined_data\" and add a 'country' column. \n",
        "all_dataframes = list()\n",
        "for csv in files:\n",
        "  #read csv and append country column with value of the left 2 letters of the current file name\n",
        "  all_dataframes.append(pd.read_csv(csv).assign(country=pathlib.Path(csv).name[:2]))\n",
        "combined_data = pd.concat(all_dataframes)\n"
      ],
      "execution_count": 23,
      "outputs": []
    },
    {
      "cell_type": "markdown",
      "metadata": {
        "id": "PdfKNvDqILsh"
      },
      "source": [
        "#### 5.1.1.2: Map category Id's to categories (2 pts)\n",
        "\n",
        "Read the category_id.json file and map the category_id's in the dataframe to the category name.\n",
        "\n",
        "Use json.load to read in the data in the json file as a python dictionary and then map the category id given in the dataframe to category name from the json file. (Hint: the US json is likely the most comprehensive reference)\n",
        "\n",
        "\n"
      ]
    },
    {
      "cell_type": "code",
      "metadata": {
        "id": "xDyMBIoRGdi0"
      },
      "source": [
        "combined_data['category_id'] = combined_data['category_id'].astype(str)\n",
        "\n",
        "# Add code here\n",
        "#read json files, parse the id and snippet-title as the key and value of the dict to get the intersection of categroies dict\n",
        "dict_categories = {}\n",
        "files = [i for i in glob.glob('/content/youtube_data/*.json'.format('json'))]\n",
        "for f in files:\n",
        "  #file prefix is country code\n",
        "  country = pathlib.Path(f).name[:2]\n",
        "  with open(f,'r') as data:\n",
        "    json_data = json.load(data)\n",
        "    #item list\n",
        "    list_item = json_data['items']\n",
        "    #put items into dict_categories\n",
        "    for item in list_item:\n",
        "      dict_categories[item['id']] = str(item['snippet']['title'])\n",
        "#https://stackoverflow.com/questions/20250771/remap-values-in-pandas-column-with-a-dict  \n",
        "#generate category by mapping category_id from category dict to name\n",
        "combined_data.insert(4, 'category',combined_data['category_id'].map(dict_categories).astype(str))"
      ],
      "execution_count": 24,
      "outputs": []
    },
    {
      "cell_type": "markdown",
      "metadata": {
        "id": "LEfiMpUULmT4"
      },
      "source": [
        "#### 5.1.1.3: Fix datetime format and remove rows with NA's (1 pt)\n",
        "\n",
        "The 'publish_time' and 'trending_date' features are not in a unix datetime format, so use pandas to_datetime() to convert it into the right format.\n",
        "\n",
        "After that is done remove all the rows which have NA's in them."
      ]
    },
    {
      "cell_type": "code",
      "metadata": {
        "id": "EMqgqJv5MYWG"
      },
      "source": [
        "# Add code here\n",
        "combined_data['trending_date'] = pd.to_datetime(combined_data['trending_date'],format=\"%y.%d.%m\")\n",
        "combined_data['publish_time'] = pd.to_datetime(combined_data['publish_time'])\n",
        "\n",
        "# Add your Code here to remove NA's\n",
        "combined_data = combined_data.dropna()"
      ],
      "execution_count": 25,
      "outputs": []
    },
    {
      "cell_type": "code",
      "metadata": {
        "id": "P7B9nlL1SwgT",
        "colab": {
          "base_uri": "https://localhost:8080/"
        },
        "outputId": "29520f24-3f3b-42ba-bd66-cca6461ffa63"
      },
      "source": [
        "# print\n",
        "print('validate_na',(combined_data.shape))"
      ],
      "execution_count": 26,
      "outputs": [
        {
          "output_type": "stream",
          "text": [
            "validate_na (154567, 18)\n"
          ],
          "name": "stdout"
        }
      ]
    },
    {
      "cell_type": "markdown",
      "metadata": {
        "id": "gT2l5ttZan_J"
      },
      "source": [
        "## 5.2 Exploratory Data Analysis & Feature Engineering (20pt)\n",
        "\n",
        "\n",
        "**Exploratory Data Analysis:** \n",
        "EDA aims to analyze data sets by summarizing its key characteristics assisted by visualizations. EDA communicates insights beyond formal modeling/hypothesis testing with or without statistical model.\n",
        "\n",
        "**Feature Engineering:** \n",
        "The primary object of feature engineering is to extract features using domain knowledge. It aims to extract features from raw data using various data mining approaches.\n",
        "\n",
        "These features are fed to various machine learning classifiers. These features are also called as covariates, predicators, or simply a new column in data frame."
      ]
    },
    {
      "cell_type": "markdown",
      "metadata": {
        "id": "bL0aSQcFAxxz"
      },
      "source": [
        "#### 5.2.1: Calculating Mean, standard deviation, min and max. (1 pt)\n",
        "\n",
        "In this section, we will focus to compute various satistics, i.e., mean, standard deviation, min and max for numerical features in the dataset and then store them into lists, i.e.,  [views, likes, dislikes, comment_count].\n",
        "\n",
        "means = [views_mean, likes_mean, dislikes_mean, comment_count_mean] and similarly for mins, maxs and stds."
      ]
    },
    {
      "cell_type": "code",
      "metadata": {
        "id": "Qfp2RcOd56Lx"
      },
      "source": [
        "# Add your code here\r\n",
        "maxs = combined_data[['views','likes','dislikes','comment_count']].max().array\r\n",
        "mins = combined_data[['views','likes','dislikes','comment_count']].min().array\r\n",
        "stds = combined_data[['views','likes','dislikes','comment_count']].std().array\r\n",
        "means = combined_data[['views','likes','dislikes','comment_count']].mean().array"
      ],
      "execution_count": 27,
      "outputs": []
    },
    {
      "cell_type": "code",
      "metadata": {
        "id": "G0186aPaSzA_",
        "colab": {
          "base_uri": "https://localhost:8080/"
        },
        "outputId": "18749a36-6d5a-463f-d570-ff4c350dd4ec"
      },
      "source": [
        "# print here\n",
        "print('check_min_max_mean_std',([maxs, mins, stds, means]))\n"
      ],
      "execution_count": 28,
      "outputs": [
        {
          "output_type": "stream",
          "text": [
            "check_min_max_mean_std [<PandasArray>\n",
            "[225211923, 5613827, 1643059, 1228655]\n",
            "Length: 4, dtype: int64, <PandasArray>\n",
            "[223, 0, 0, 0]\n",
            "Length: 4, dtype: int64, <PandasArray>\n",
            "[4605292.478385788, 152148.9548547498, 18258.541379661325, 23278.22562062009]\n",
            "Length: 4, dtype: float64, <PandasArray>\n",
            "[1281578.03423758, 40961.05191276275, 2056.138490104615, 4606.593742519425]\n",
            "Length: 4, dtype: float64]\n"
          ],
          "name": "stdout"
        }
      ]
    },
    {
      "cell_type": "markdown",
      "metadata": {
        "id": "jwMkARfAFE-U"
      },
      "source": [
        "#### 5.2.2: Rescaling the features (1 pt)\n",
        "\n",
        "From the above section, it is clear that the numerical values range is really high.  we can use rescaling to avoid numerical instability problems. We can rescale likes, views, dislikes, and comment_count using log scale (base e). Let us store rescaled features in dataframe as likes_log, views_log, dislikes_log and comment_log.\n",
        "\n",
        "NOTE- log 0 is not defined, therefore, you should add 1 to each value prior to taking the log."
      ]
    },
    {
      "cell_type": "code",
      "metadata": {
        "id": "-0wGMFGdFUBK"
      },
      "source": [
        "# Add your code here\n",
        "# log1p returns an array with natural logarithmic value of x + 1;\n",
        "# np.log1p(x) = np.log(x + 1)\n",
        "combined_data['likes_log'] = combined_data['likes'].apply(np.log1p)\n",
        "combined_data['views_log'] = combined_data['views'].apply(np.log1p)\n",
        "combined_data['dislikes_log'] = combined_data['dislikes'].apply(np.log1p)\n",
        "combined_data['comment_log'] = combined_data['comment_count'].apply(np.log1p)\n"
      ],
      "execution_count": 38,
      "outputs": []
    },
    {
      "cell_type": "code",
      "metadata": {
        "id": "ZrJSqeZaS1_0",
        "colab": {
          "base_uri": "https://localhost:8080/"
        },
        "outputId": "cf93843e-f3d2-4e11-dafb-435b6b25c2d9"
      },
      "source": [
        "# Print results\n",
        "\n",
        "print('check_feature_rescaling',([np.mean(combined_data['likes_log']),np.mean(combined_data['views_log']),np.mean(combined_data['dislikes_log']),\n",
        "                                         np.mean(combined_data['comment_log'])]))"
      ],
      "execution_count": 39,
      "outputs": [
        {
          "output_type": "stream",
          "text": [
            "check_feature_rescaling [8.571590187188708, 12.552679805013122, 5.614484952081185, 6.424543615108382]\n"
          ],
          "name": "stdout"
        }
      ]
    },
    {
      "cell_type": "markdown",
      "metadata": {
        "id": "Kqt6-d6NGA9F"
      },
      "source": [
        "#### 5.2.3: Plotting the distribution (2 pt)\n",
        "\n",
        "Plot the distribution for the newly created log features. They should look like normal distribution curves."
      ]
    },
    {
      "cell_type": "code",
      "metadata": {
        "id": "gM-HSdnGE5Cf",
        "colab": {
          "base_uri": "https://localhost:8080/",
          "height": 390
        },
        "outputId": "bdbd7a12-1fba-4fa4-b74b-559105e985e2"
      },
      "source": [
        "# Add your code here for plotting the distribution\n",
        "#!!!!!!!!!!!!!!!!!!!!\n",
        "hist = combined_data[['likes_log','views_log','dislikes_log','comment_log']].hist(bins=30,figsize=(12,6))"
      ],
      "execution_count": 40,
      "outputs": [
        {
          "output_type": "display_data",
          "data": {
            "image/png": "[encoded data removed]",
            "text/plain": [
              "<Figure size 864x432 with 4 Axes>"
            ]
          },
          "metadata": {
            "tags": [],
            "needs_background": "light"
          }
        }
      ]
    },
    {
      "cell_type": "markdown",
      "metadata": {
        "id": "AuCVICPLBV1l"
      },
      "source": [
        "#### 5.2.4: Comparing views, likes, dislikes against categories (3 pt)\n",
        "\n",
        "Let us gain isights into data using various catergories, views, likes and dislikes.\n",
        "\n",
        "Draw three plots for the following:\n",
        "\n",
        "1.) How many videos are there for each category?\n",
        "\n",
        "2.) What is the distribution of views against categories? (Use boxplot and views on log scale)\n",
        "\n",
        "3.) What is the distribution of dislikes against categories? (Use boxplot and dislikes on log scale)\n",
        "\n",
        "For extra credit:\n",
        "You can try to gain more insights into the dataset by drawing interesting plots. Some ideas include:\n",
        "\n",
        "* How long does a video trend in a country? \n",
        "* What are some videos which got popular because they were disliked? \n",
        "\n",
        "Think of such interesting things and add here. We will award points based on creativity of the insights that you get."
      ]
    },
    {
      "cell_type": "code",
      "metadata": {
        "id": "Vl_bgpXbB6kt",
        "colab": {
          "base_uri": "https://localhost:8080/",
          "height": 1000
        },
        "outputId": "6151fe23-632c-4ec2-b90b-c3de5b7b70e7"
      },
      "source": [
        "# Your code goes here\n",
        "# Plots will be manually graded\n",
        "#1How many videos are there for each category\n",
        "combined_data[['category','video_id']].groupby(['category']).count().\\\n",
        "  plot(kind='bar', title= 'How many videos are there for each category', figsize=(10,6), rot=30);\n",
        "#2What is the distribution of views against categories? (Use boxplot and views on log scale)\n",
        "axes = combined_data[['category','views_log']].boxplot(column=['views_log'], by=['category'], rot=65, fontsize=12)\n",
        "axes.set_title('the distribution of views against categories')\n",
        "\n",
        "\n",
        "#3What is the distribution of dislikes against categories? (Use boxplot and dislikes on log scale)\n",
        "axes = combined_data[['category','dislikes_log']].boxplot(column=['dislikes_log'], by=['category'], rot=45, fontsize=12)\n",
        "axes.set_title('the distribution of dislikes against categories')"
      ],
      "execution_count": 41,
      "outputs": [
        {
          "output_type": "stream",
          "text": [
            "/usr/local/lib/python3.6/dist-packages/numpy/core/_asarray.py:83: VisibleDeprecationWarning: Creating an ndarray from ragged nested sequences (which is a list-or-tuple of lists-or-tuples-or ndarrays with different lengths or shapes) is deprecated. If you meant to do this, you must specify 'dtype=object' when creating the ndarray\n",
            "  return array(a, dtype, copy=False, order=order)\n",
            "/usr/local/lib/python3.6/dist-packages/numpy/core/_asarray.py:83: VisibleDeprecationWarning: Creating an ndarray from ragged nested sequences (which is a list-or-tuple of lists-or-tuples-or ndarrays with different lengths or shapes) is deprecated. If you meant to do this, you must specify 'dtype=object' when creating the ndarray\n",
            "  return array(a, dtype, copy=False, order=order)\n"
          ],
          "name": "stderr"
        },
        {
          "output_type": "execute_result",
          "data": {
            "text/plain": [
              "Text(0.5, 1.0, 'the distribution of dislikes against categories')"
            ]
          },
          "metadata": {
            "tags": []
          },
          "execution_count": 41
        },
        {
          "output_type": "display_data",
          "data": {
            "image/png": "[encoded data removed]",
            "text/plain": [
              "<Figure size 720x432 with 1 Axes>"
            ]
          },
          "metadata": {
            "tags": [],
            "needs_background": "light"
          }
        },
        {
          "output_type": "display_data",
          "data": {
            "image/png": "[encoded data removed]",
            "text/plain": [
              "<Figure size 432x288 with 1 Axes>"
            ]
          },
          "metadata": {
            "tags": [],
            "needs_background": "light"
          }
        },
        {
          "output_type": "display_data",
          "data": {
            "image/png": "[encoded data removed]",
            "text/plain": [
              "<Figure size 432x288 with 1 Axes>"
            ]
          },
          "metadata": {
            "tags": [],
            "needs_background": "light"
          }
        }
      ]
    },
    {
      "cell_type": "markdown",
      "metadata": {
        "id": "a9l7UZPoGBcB"
      },
      "source": [
        "#### 5.2.5: Feature Engineering (8 pts)\n"
      ]
    },
    {
      "cell_type": "markdown",
      "metadata": {
        "id": "bUSsAlnaI4Ep"
      },
      "source": [
        "\n",
        "##### a. Processing tags (1 pt)\n",
        "\n",
        "The feature tags in the dataset has a delimiter, use that delimiter to count the number of tags, create a feature called num_tags and add that to the dataset."
      ]
    },
    {
      "cell_type": "code",
      "metadata": {
        "id": "4L_6WcapHPDl"
      },
      "source": [
        "# Add your code here\n",
        "combined_data[\"num_tags\"] = combined_data[\"tags\"].map(lambda x: len(x.split('|'))) #tags"
      ],
      "execution_count": 42,
      "outputs": []
    },
    {
      "cell_type": "markdown",
      "metadata": {
        "id": "8bnJqokpI1Mj"
      },
      "source": [
        "##### b. Processing description and title (2 pts.)\n",
        "\n",
        "Calculate the length of description and title and add them as features to the dataset"
      ]
    },
    {
      "cell_type": "code",
      "metadata": {
        "id": "NJyWb54zHes2"
      },
      "source": [
        "# Add your code here\n",
        "combined_data[\"desc_len\"] = combined_data[\"description\"].map(lambda x: len(x)) #desc_len"
      ],
      "execution_count": 43,
      "outputs": []
    },
    {
      "cell_type": "code",
      "metadata": {
        "id": "ZPMnQhbJHgx0"
      },
      "source": [
        "# Add your code here\n",
        "combined_data[\"len_title\"] = combined_data[\"title\"].map(lambda x: len(x)) #title_len"
      ],
      "execution_count": 44,
      "outputs": []
    },
    {
      "cell_type": "code",
      "metadata": {
        "id": "ksE7fNPQS_qr",
        "colab": {
          "base_uri": "https://localhost:8080/"
        },
        "outputId": "b0dc8e0f-3dd7-4274-868e-cf2f16daa7ac"
      },
      "source": [
        "# Print cell\n",
        "print('check_tags_title_description',([combined_data['num_tags'].describe(),combined_data['desc_len'].describe(),combined_data['len_title'].describe()]))"
      ],
      "execution_count": 45,
      "outputs": [
        {
          "output_type": "stream",
          "text": [
            "check_tags_title_description [count    154567.000000\n",
            "mean         18.629002\n",
            "std          11.856148\n",
            "min           1.000000\n",
            "25%           9.000000\n",
            "50%          17.000000\n",
            "75%          26.000000\n",
            "max         124.000000\n",
            "Name: num_tags, dtype: float64, count    154567.000000\n",
            "mean        959.949426\n",
            "std         857.504028\n",
            "min           1.000000\n",
            "25%         363.000000\n",
            "50%         717.000000\n",
            "75%        1288.000000\n",
            "max        5260.000000\n",
            "Name: desc_len, dtype: float64, count    154567.000000\n",
            "mean         56.408541\n",
            "std          22.976198\n",
            "min           2.000000\n",
            "25%          38.000000\n",
            "50%          54.000000\n",
            "75%          74.000000\n",
            "max         100.000000\n",
            "Name: len_title, dtype: float64]\n"
          ],
          "name": "stdout"
        }
      ]
    },
    {
      "cell_type": "markdown",
      "metadata": {
        "id": "aOaB6ZbCJTBv"
      },
      "source": [
        "##### c. Processing publish_time. (4 pts.)\n",
        "\n",
        "\n",
        "Split 'publish_time' feature into three parts time, date, and weekday, where time will contain the time component of the original feature and date and weekday will store the corresponding date and weekday number respectively. Start with 1 for Monday and end with 7 for Sunday."
      ]
    },
    {
      "cell_type": "code",
      "metadata": {
        "id": "ZVJTEJRFHrI5"
      },
      "source": [
        "import random\n",
        "# Add your code here\n",
        "\n",
        "#combined_data['publish_time'] = pd.to_datetime(combined_data['publish_date']).dt.time\n",
        "combined_data['publish_date'] = pd.to_datetime(combined_data['publish_time']).dt.date\n",
        "\n",
        "#day on which video was published\n",
        "combined_data['publish_weekday']=combined_data['publish_time'].dt.dayofweek+1 #start from 0, so + 1\n",
        "#execute at last\n",
        "combined_data['publish_time'] = pd.to_datetime(combined_data['publish_time']).dt.time\n",
        "\n",
        "random_index = random.randint(0,combined_data.shape[0]-1)"
      ],
      "execution_count": 46,
      "outputs": []
    },
    {
      "cell_type": "code",
      "metadata": {
        "id": "Ud5dPVljTDoQ",
        "colab": {
          "base_uri": "https://localhost:8080/"
        },
        "outputId": "19e4e57a-1cdf-41c6-c2d1-c2dd20a84ff6"
      },
      "source": [
        "# Print cell\n",
        "print('check_date_time_processing',([combined_data['publish_time'].iloc[random_index],combined_data['publish_date'].iloc[random_index],sorted(list(combined_data[\"publish_weekday\"].value_counts()))]))"
      ],
      "execution_count": 47,
      "outputs": [
        {
          "output_type": "stream",
          "text": [
            "check_date_time_processing [datetime.time(5, 35, 44), datetime.date(2018, 2, 13), [18641, 18931, 22146, 22501, 22523, 23573, 26252]]\n"
          ],
          "name": "stdout"
        }
      ]
    },
    {
      "cell_type": "markdown",
      "metadata": {
        "id": "mx1JPowWKKE7"
      },
      "source": [
        "##### d. Number of videos per weekday (1 pt)\n",
        "\n",
        "Calculate the number of videos published per day of the week. Which day of the week do people publish most videos? Make a visualization demonstrating the result."
      ]
    },
    {
      "cell_type": "code",
      "metadata": {
        "id": "IYNXbH9AKhzy",
        "colab": {
          "base_uri": "https://localhost:8080/",
          "height": 299
        },
        "outputId": "0893e7d4-5e67-44a3-e82c-d546a0453a34"
      },
      "source": [
        "# Add your code for plot here\n",
        "# Plots will be manually graded\n",
        "\n",
        "#combined_data.groupby('publish_weekday').size().plot.pie(figsize=(4,4))\n",
        "ax = combined_data[['publish_weekday']].groupby('publish_weekday')['publish_weekday'].count().\\\n",
        "  plot(kind='bar', figsize=(12,4), title=\"Number of videos per weekday\" ,rot=0, fontsize=12)\n",
        "ax.set_alpha(0.8)\n",
        "ax.set_ylabel(\"number of videos\", fontsize=15);\n",
        "ax.set_xticklabels(['Monday', 'Tuesday', 'Wednesday', 'Thursday', 'Friday', 'Saturday', 'Sunday'])\n",
        "\n",
        "plt.show()"
      ],
      "execution_count": 48,
      "outputs": [
        {
          "output_type": "display_data",
          "data": {
            "image/png": "[encoded data removed]",
            "text/plain": [
              "<Figure size 864x288 with 1 Axes>"
            ]
          },
          "metadata": {
            "tags": [],
            "needs_background": "light"
          }
        }
      ]
    },
    {
      "cell_type": "markdown",
      "metadata": {
        "id": "qd7dG7GTKrVQ"
      },
      "source": [
        "#### 5.2.6: Dropping irrelevant non numeric columns (1 pt.)\n",
        "\n",
        "Drop all the columns that are non-numeric as we have processed them and stored the information captured in them in the dataset as numbers. \n",
        "\n",
        "Note that a few key columns are non-numeric but should be kept in the dataframe:\n",
        "\n",
        "comments_disabled, ratings_disabled, video_error_or_removed, country\n",
        "\n",
        "Also drop original views, like, comments and dislikes as you have processed them as logs and stored them as separate feature. "
      ]
    },
    {
      "cell_type": "code",
      "metadata": {
        "id": "i6PsYGIeQq2o"
      },
      "source": [
        "#just in case ...backup\r\n",
        "combined_data_backup = combined_data.copy()"
      ],
      "execution_count": 49,
      "outputs": []
    },
    {
      "cell_type": "code",
      "metadata": {
        "id": "lfIZQ7jSHr1M"
      },
      "source": [
        "# Add your code here\r\n",
        "#non numeric columns need to drop\r\n",
        "drop_non_numeric_set = list(set(combined_data.select_dtypes(exclude='number').columns.tolist()) - \\\r\n",
        "  set(['comments_disabled','ratings_disabled','video_error_or_removed','country']))\r\n",
        "#numeric columns need to drop\r\n",
        "drop_numeric_set = ['views', 'likes', 'dislikes', 'comment_count'] \r\n",
        "#drop these the above all columns\r\n",
        "#print(drop_non_numeric_set + drop_numeric_set)\r\n",
        "combined_data.drop(drop_non_numeric_set + drop_numeric_set, axis=1, inplace=True)"
      ],
      "execution_count": 50,
      "outputs": []
    },
    {
      "cell_type": "markdown",
      "metadata": {
        "id": "_HtmJiKYLlxx"
      },
      "source": [
        "#### 5.2.7: Convert categorical features in the dataset into one hot vectors. (3 pts)\n",
        "\n",
        "There are three categorical features remaining in the dataset, identify them and convert them into one hot vectors. Be sure that when you one hot encode, the original column is replaced."
      ]
    },
    {
      "cell_type": "code",
      "metadata": {
        "id": "63tJVBE0Kkju"
      },
      "source": [
        "from sklearn.compose import ColumnTransformer\n",
        "from sklearn.preprocessing import OneHotEncoder\n",
        "\n",
        "combined_data.publish_weekday = combined_data.publish_weekday.astype('category')\n",
        "combined_data.country = combined_data.country.astype('category')\n",
        "\n",
        "# Hint: Use pd.get_dummies()range. \n",
        "#get dummies of categorical columns, concat to original dataframe with categorical columns dropped\n",
        "categorical_list = ['publish_weekday','country']\n",
        "\n",
        "\n",
        "combined_data = pd.concat(\\\n",
        "    [combined_data.drop(categorical_list, axis=1), \n",
        "     pd.get_dummies(combined_data[categorical_list])], axis=1 )\n"
      ],
      "execution_count": 52,
      "outputs": []
    },
    {
      "cell_type": "code",
      "metadata": {
        "id": "xoC5xvGGPw-X",
        "colab": {
          "base_uri": "https://localhost:8080/"
        },
        "outputId": "f30e36a6-c1c7-4b9c-a405-c3d49c5b5bdc"
      },
      "source": [
        "# Print cell.\n",
        "print('check_final_df',(combined_data.shape))"
      ],
      "execution_count": 53,
      "outputs": [
        {
          "output_type": "stream",
          "text": [
            "check_final_df (154567, 21)\n"
          ],
          "name": "stdout"
        }
      ]
    },
    {
      "cell_type": "markdown",
      "metadata": {
        "id": "kAsgbsEn6lzv"
      },
      "source": [
        "Let's write out the modified data we created to a file so that we can reuse it in Section 2."
      ]
    },
    {
      "cell_type": "code",
      "metadata": {
        "id": "-t8fKXq36k6P"
      },
      "source": [
        "combined_data_sec_2 = combined_data.copy()\n",
        "combined_data_sec_2.rename(columns = {'views_log':'label'}, inplace = True) \n",
        "combined_data_sec_2.to_csv('combined_data.csv')"
      ],
      "execution_count": 54,
      "outputs": []
    },
    {
      "cell_type": "markdown",
      "metadata": {
        "id": "FIcXjRtDMlFt"
      },
      "source": [
        "#### 5.2.8: Split into x and y (1 pt)\n",
        "\n",
        "Split the data into features and label, in this case the features are anything but views_log and the label is views_log."
      ]
    },
    {
      "cell_type": "code",
      "metadata": {
        "id": "3nSwRvMSSFa3"
      },
      "source": [
        "# Add your code here\n",
        "label = combined_data[['views_log']]\n",
        "features = combined_data.drop(['views_log'], axis=1)"
      ],
      "execution_count": 168,
      "outputs": []
    },
    {
      "cell_type": "code",
      "metadata": {
        "id": "r6opJ4LOPygd",
        "colab": {
          "base_uri": "https://localhost:8080/"
        },
        "outputId": "fa9e6c8b-b442-47dd-b35e-d542857b7337"
      },
      "source": [
        "# print cell\n",
        "print('check_x_y_split',([features.shape, label.describe()]))"
      ],
      "execution_count": 169,
      "outputs": [
        {
          "output_type": "stream",
          "text": [
            "check_x_y_split [(154567, 20),            views_log\n",
            "count  154567.000000\n",
            "mean       12.552680\n",
            "std         1.816821\n",
            "min         5.411646\n",
            "25%        11.469496\n",
            "50%        12.655328\n",
            "75%        13.761413\n",
            "max        19.232552]\n"
          ],
          "name": "stdout"
        }
      ]
    },
    {
      "cell_type": "markdown",
      "metadata": {
        "id": "a9rwVcftQJwu"
      },
      "source": [
        "## 5.3 : Machine Learning using sklearn (15 pts)\n",
        "\n",
        "Scikit-learn (formerly scikits.learn and also known as sklearn) is a free software machine learning library for the Python programming language. It features various classification, regression and clustering algorithms including support vector machines, random forests, gradient boosting, k-means and DBSCAN, and is designed to interoperate with the Python numerical and scientific libraries NumPy and SciPy.\n",
        "\n",
        "You can find the documentation [here](https://scikit-learn.org/stable/modules/classes.html)\n",
        "\n",
        "Now we will train some machine learning models using sklearn to predict views, rather than predicting views directly we will predict views_log to avoid numerical instability issues"
      ]
    },
    {
      "cell_type": "markdown",
      "metadata": {
        "id": "5955JflOaxtP"
      },
      "source": [
        "### 5.3.1 : Split data into train and test (1 pt)\n",
        "\n",
        "Use sklearn's train_test_split library and split data into train and test sets, the split should be 80-20 meaning 80% for training and rest for testing.\n"
      ]
    },
    {
      "cell_type": "code",
      "metadata": {
        "id": "1b5bKkQkR9lT"
      },
      "source": [
        "from sklearn.model_selection import train_test_split\n",
        "# Add your code here\n",
        "x_train, x_test, y_train, y_test = train_test_split(\\\n",
        "  features, label, test_size=0.20, random_state=42)"
      ],
      "execution_count": 170,
      "outputs": []
    },
    {
      "cell_type": "code",
      "metadata": {
        "id": "azYR-gZ1QKwK",
        "colab": {
          "base_uri": "https://localhost:8080/"
        },
        "outputId": "1353c708-de9e-48c3-d1a0-322deb026aff"
      },
      "source": [
        "# print cell.\n",
        "print('check_data_split',[x_train.shape,x_test.shape,y_train.shape,y_test.shape])"
      ],
      "execution_count": 171,
      "outputs": [
        {
          "output_type": "stream",
          "text": [
            "check_data_split [(123653, 20), (30914, 20), (123653, 1), (30914, 1)]\n"
          ],
          "name": "stdout"
        }
      ]
    },
    {
      "cell_type": "markdown",
      "metadata": {
        "id": "dbfiYK_8RGKI"
      },
      "source": [
        "### 5.3.2: Train Machine Learning Models."
      ]
    },
    {
      "cell_type": "markdown",
      "metadata": {
        "id": "7EPYfVVMRMDd"
      },
      "source": [
        "#### 5.3.2.1 Linear Regression (3 pts)\n",
        "\n",
        "In this step we will train a linear regression model using sklearn. Train using the training data and then make predictions of test, report the mean squared error obtained on both train and test sets."
      ]
    },
    {
      "cell_type": "code",
      "metadata": {
        "id": "A6wS3Rc_TZGT"
      },
      "source": [
        "from sklearn.linear_model import LinearRegression\n",
        "from sklearn.metrics import mean_squared_error\n",
        "# Add your code here\n",
        "#create linearregression model\n",
        "lr = LinearRegression()\n",
        "#train model\n",
        "lr.fit(x_train, y_train)\n",
        "#predict\n",
        "y_pred = lr.predict(x_test)"
      ],
      "execution_count": 172,
      "outputs": []
    },
    {
      "cell_type": "code",
      "metadata": {
        "id": "YmSfKICYQLuh",
        "colab": {
          "base_uri": "https://localhost:8080/"
        },
        "outputId": "3f715af8-ecc7-46dd-bc38-ec499b47a0f0"
      },
      "source": [
        "print('check_lr', (np.sqrt(mean_squared_error(y_test, y_pred))))"
      ],
      "execution_count": 163,
      "outputs": [
        {
          "output_type": "stream",
          "text": [
            "check_lr 0.6877586405951512\n"
          ],
          "name": "stdout"
        }
      ]
    },
    {
      "cell_type": "markdown",
      "metadata": {
        "id": "jpu9aiyYbAUS"
      },
      "source": [
        "#### 5.3.2.2  Dimensionality reduction with PCA (6 pts)\n",
        "\n"
      ]
    },
    {
      "cell_type": "markdown",
      "metadata": {
        "id": "aTqcy4x-TXv9"
      },
      "source": [
        "##### Step 1: Fitting PCA and explained_variance_ratiio\n",
        "Use Principal component analysis to reduce number of dimensions of the dataset, as a first step fit a pca model on your train set and then plot the explained_variance_ratio against the number of components to decide the number of components you should keep. (3 pts)"
      ]
    },
    {
      "cell_type": "code",
      "metadata": {
        "id": "2rghpqrIsQhh",
        "colab": {
          "base_uri": "https://localhost:8080/"
        },
        "outputId": "2be2b6f8-9fda-4674-89f8-9b55854eda7c"
      },
      "source": [
        "#https://scikit-plot.readthedocs.io/en/stable/decomposition.html\r\n",
        "#The scikitplot.decomposition module includes plots built specifically for scikit-learn estimators that are used for dimensionality reduction\r\n",
        "!pip install scikit-plot"
      ],
      "execution_count": 61,
      "outputs": [
        {
          "output_type": "stream",
          "text": [
            "Collecting scikit-plot\n",
            "  Downloading https://files.pythonhosted.org/packages/7c/47/32520e259340c140a4ad27c1b97050dd3254fdc517b1d59974d47037510e/scikit_plot-0.3.7-py3-none-any.whl\n",
            "Requirement already satisfied: scipy>=0.9 in /usr/local/lib/python3.6/dist-packages (from scikit-plot) (1.4.1)\n",
            "Requirement already satisfied: scikit-learn>=0.18 in /usr/local/lib/python3.6/dist-packages (from scikit-plot) (0.22.2.post1)\n",
            "Requirement already satisfied: joblib>=0.10 in /usr/local/lib/python3.6/dist-packages (from scikit-plot) (1.0.0)\n",
            "Requirement already satisfied: matplotlib>=1.4.0 in /usr/local/lib/python3.6/dist-packages (from scikit-plot) (3.2.2)\n",
            "Requirement already satisfied: numpy>=1.13.3 in /usr/local/lib/python3.6/dist-packages (from scipy>=0.9->scikit-plot) (1.19.5)\n",
            "Requirement already satisfied: pyparsing!=2.0.4,!=2.1.2,!=2.1.6,>=2.0.1 in /usr/local/lib/python3.6/dist-packages (from matplotlib>=1.4.0->scikit-plot) (2.4.7)\n",
            "Requirement already satisfied: python-dateutil>=2.1 in /usr/local/lib/python3.6/dist-packages (from matplotlib>=1.4.0->scikit-plot) (2.8.1)\n",
            "Requirement already satisfied: kiwisolver>=1.0.1 in /usr/local/lib/python3.6/dist-packages (from matplotlib>=1.4.0->scikit-plot) (1.3.1)\n",
            "Requirement already satisfied: cycler>=0.10 in /usr/local/lib/python3.6/dist-packages (from matplotlib>=1.4.0->scikit-plot) (0.10.0)\n",
            "Requirement already satisfied: six>=1.5 in /usr/local/lib/python3.6/dist-packages (from python-dateutil>=2.1->matplotlib>=1.4.0->scikit-plot) (1.15.0)\n",
            "Installing collected packages: scikit-plot\n",
            "Successfully installed scikit-plot-0.3.7\n"
          ],
          "name": "stdout"
        }
      ]
    },
    {
      "cell_type": "code",
      "metadata": {
        "id": "96aYT7coNLQR",
        "colab": {
          "base_uri": "https://localhost:8080/",
          "height": 295
        },
        "outputId": "5ca40ade-6300-4ac7-c8ff-1d5cc90dcdce"
      },
      "source": [
        "import numpy as np\r\n",
        "from sklearn.preprocessing import StandardScaler\r\n",
        "from sklearn.decomposition import PCA\r\n",
        "# Add your code here\r\n",
        "#standardize \r\n",
        "scaler = StandardScaler()\r\n",
        "x_train_2 = scaler.fit_transform(x_train)\r\n",
        "x_test_2 = scaler.fit_transform(x_test)\r\n",
        "#plot \r\n",
        "import scikitplot as skplt\r\n",
        "#PCA(0.95)\r\n",
        "pca = PCA()\r\n",
        "pca.fit(x_train_2)\r\n",
        "#plot the explained_variance_ratio against the number of components\r\n",
        "ax = skplt.decomposition.plot_pca_component_variance(pca, \\\r\n",
        "                                                target_explained_variance=0.95)\r\n",
        "plt.xticks(range(1,20))\r\n",
        "plt.show()"
      ],
      "execution_count": 173,
      "outputs": [
        {
          "output_type": "display_data",
          "data": {
            "image/png": "[encoded data removed]",
            "text/plain": [
              "<Figure size 432x288 with 1 Axes>"
            ]
          },
          "metadata": {
            "tags": [],
            "needs_background": "light"
          }
        }
      ]
    },
    {
      "cell_type": "markdown",
      "metadata": {
        "id": "jPbEQwiRR2Ta"
      },
      "source": [
        "##### Step 2: Deciding number of components to keep\n",
        "Use the plot to decide the number of components to keep, choose a number that explains atleast 95% of variance in the dataset. Then fit and transform your pca on training set using the number of components you decided. (1 pts)\n",
        "\n",
        "**Remember that your pca should be trained on the training set (and transformed here) but only transformed on the test set.**"
      ]
    },
    {
      "cell_type": "code",
      "metadata": {
        "id": "5OfN7anNQNFy",
        "colab": {
          "base_uri": "https://localhost:8080/"
        },
        "outputId": "59c80f74-bef0-4b99-ad0f-b612cbf9fc5d"
      },
      "source": [
        "# Add your code here\r\n",
        "#from the above graph, 15 components explains at least 95% variance\r\n",
        "pca = PCA(n_components=15)\r\n",
        "#optimized dataset set by PCA\r\n",
        "x_train_2 = pca.fit_transform(x_train)\r\n",
        "x_test_2  = pca.transform(x_test)\r\n",
        "#re-train the lineargression model\r\n",
        "lr.fit(x_train_2, y_train)\r\n",
        "y_pred = lr.predict(x_test_2)\r\n",
        "#!!!!!!!!!!!!!!!!!!!!!!!!!\r\n",
        "print('check_lr', (np.sqrt(mean_squared_error(y_test, y_pred))))"
      ],
      "execution_count": 181,
      "outputs": [
        {
          "output_type": "stream",
          "text": [
            "check_lr 0.8164808969679765\n"
          ],
          "name": "stdout"
        }
      ]
    },
    {
      "cell_type": "code",
      "metadata": {
        "id": "lPiFyPW2XmPr",
        "colab": {
          "base_uri": "https://localhost:8080/"
        },
        "outputId": "1621bd90-b785-441e-f39b-de788db8ef1b"
      },
      "source": [
        "# Print cell.\n",
        "x_train = x_train_2\n",
        "print('check_pca', (x_train[:50,:]))"
      ],
      "execution_count": 183,
      "outputs": [
        {
          "output_type": "stream",
          "text": [
            "check_pca [[-1.73797751e+02  1.65104808e+01 -5.02392130e+00 -4.36313169e+00\n",
            "  -2.71300177e-01 -2.12090923e-01  8.52922402e-01 -3.84152815e-02\n",
            "   1.50616174e-01 -1.37120778e-01 -4.96084047e-02 -9.97553247e-03\n",
            "   8.46511953e-03  4.26308674e-01  7.93621252e-01]\n",
            " [ 1.58312096e+02  1.15865639e+01  2.21438601e+01  4.87424115e+00\n",
            "  -1.75039435e+00 -2.10754081e+00 -2.58631361e-01  5.68446908e-01\n",
            "  -2.89078090e-01 -2.75517619e-01 -4.05713310e-01  6.91814914e-01\n",
            "  -2.96858328e-01 -2.58679397e-01 -7.15804215e-02]\n",
            " [ 1.84925942e+03 -1.42149558e+01 -1.23673340e+01 -1.50236814e+00\n",
            "   1.32544235e+00  1.03893389e+00  8.50109558e-01 -2.05479573e-02\n",
            "   7.16906320e-01 -7.69912065e-02 -1.40951225e-02 -1.50572286e-02\n",
            "  -4.29667551e-02  4.11652918e-01  7.82890069e-01]\n",
            " [ 1.24318916e+02 -1.08523907e+01  1.03222998e+01  1.02381264e+00\n",
            "  -2.79193793e-01 -1.53714898e-03 -7.26648037e-01 -5.17694360e-01\n",
            "   3.35656781e-01 -1.01158323e-01 -3.29549459e-01 -6.96222248e-01\n",
            "  -3.42446087e-01 -1.12709536e-01 -2.58441241e-02]\n",
            " [-1.84663464e+02 -2.80608750e+01  4.86468925e+00 -4.08733748e+00\n",
            "  -4.25381657e-01 -6.54733359e-01 -6.70413177e-01 -2.57701140e-01\n",
            "   3.11179461e-01  9.39102764e-01  8.38692658e-02  2.16029242e-02\n",
            "  -1.31790706e-02  5.08680161e-02  9.45448610e-03]\n",
            " [-4.85776790e+02  1.72572695e+01  2.95388967e+00  2.10259099e+00\n",
            "  -4.64854674e-01  1.17058810e+00 -6.21877135e-01 -4.32039972e-01\n",
            "   1.34898536e-01 -1.98693565e-02 -2.63767861e-02  1.28012371e-02\n",
            "   1.83423601e-02  8.55119323e-01 -5.42964714e-01]\n",
            " [-2.31745789e+02  3.60737326e+01  2.10549148e+01 -8.18221519e-01\n",
            "  -8.62852621e-01  1.24539365e-01  8.04433966e-01 -5.55003997e-02\n",
            "  -1.59019818e-01 -1.42437692e-01 -5.93466502e-02  2.20325097e-02\n",
            "   1.88553958e-02  7.01622853e-01 -5.81002566e-01]\n",
            " [ 1.69201075e+02  4.62990289e+01  1.19663634e+01  1.70914144e-02\n",
            "  -2.10794128e-01  5.13227687e-01 -5.38421872e-01 -2.18569902e-01\n",
            "  -3.37667986e-02 -7.65980509e-02 -4.43561299e-02 -5.06540383e-03\n",
            "   4.25059947e-02  5.44127278e-01  8.32127257e-01]\n",
            " [ 1.05727832e+03  2.41601590e+00  4.48009251e+00 -1.08642834e+00\n",
            "   3.23590580e-01  1.88652523e-02 -6.55846426e-01 -3.79799024e-01\n",
            "   3.08046203e-01 -1.28427265e-01 -3.40589388e-01 -7.11633862e-01\n",
            "  -3.39758070e-01 -1.32279469e-01 -3.53322817e-02]\n",
            " [ 4.07199713e+02  1.96548382e+01 -5.13671136e+00 -3.18942806e+00\n",
            "   1.65931983e-01  2.20460070e-01 -6.14259152e-01 -3.51379963e-01\n",
            "   1.85726845e-01 -1.46849068e-01 -3.45536058e-01 -7.19952639e-01\n",
            "  -3.35764207e-01 -1.40820549e-01 -4.01432628e-02]\n",
            " [-9.04674164e+02 -3.93668162e+01 -2.10237856e+00 -4.24379852e-01\n",
            "  -3.67782520e-01  5.29438092e-02 -9.70742516e-02 -1.68546221e-01\n",
            "  -6.36890454e-01 -3.03131576e-01  8.17300679e-01  3.28963795e-02\n",
            "  -1.11367510e-01 -2.02481666e-01  2.17383265e-02]\n",
            " [-7.93835525e+02  1.45157192e+01 -1.39507247e+01  3.28560750e-03\n",
            "  -1.42663055e+00 -1.94274459e-01 -7.32790636e-01 -6.32974855e-01\n",
            "  -6.53209222e-03 -1.32154438e-01 -3.73434368e-01  7.00977542e-01\n",
            "  -3.16325803e-01 -9.05746013e-02 -1.47720060e-02]\n",
            " [-5.39832750e+02  2.48878621e+01 -8.29232990e+00 -2.91164939e+00\n",
            "  -2.81643200e-01 -9.21639080e-01 -7.99209572e-02  7.98134595e-01\n",
            "  -8.96670317e-02 -4.04858236e-01  8.12250896e-01 -2.03669391e-02\n",
            "  -9.81903530e-02 -2.45626880e-01 -9.59731545e-02]\n",
            " [-5.28880296e+02  3.69325529e+01 -1.29864091e+01  2.73739878e+00\n",
            "   6.37569080e-02  1.61896313e-01  8.63614704e-01 -4.30755508e-01\n",
            "   1.82202876e-02 -8.85150365e-02 -3.42659266e-02 -1.16326222e-03\n",
            "  -3.23128794e-03  7.32342408e-01 -5.84116175e-01]\n",
            " [-3.93789116e+02 -8.82446066e-01 -1.12901891e+01  1.76303155e+00\n",
            "  -1.26973505e+00 -1.21278706e+00 -7.39726149e-01 -7.68174546e-01\n",
            "  -6.62463902e-03 -2.24059213e-01  8.33270100e-01  1.89284285e-02\n",
            "  -7.84974629e-02 -9.29274280e-03 -5.48506267e-03]\n",
            " [ 5.70268147e+02  5.47313506e+00  4.55017506e+00 -2.65692053e+00\n",
            "   8.27484547e-01  8.69914311e-01  7.76647378e-01 -9.57413034e-02\n",
            "   4.77444038e-01 -1.84964511e-01 -3.25578745e-01 -7.02358513e-01\n",
            "  -3.96683711e-01 -2.97247266e-01 -8.38949044e-02]\n",
            " [-8.13780130e+02  1.66944798e+01  2.24868290e+00  2.78694027e-01\n",
            "   6.28036207e-01 -4.28513526e-01 -5.51515811e-01 -4.50804513e-01\n",
            "   1.79237938e-01  9.46305596e-01  9.65054007e-02  1.45366298e-02\n",
            "  -1.90595033e-02  4.21121864e-02  3.21714285e-03]\n",
            " [ 1.08527517e+03  1.90999557e+01  1.32256966e+01 -1.79575939e+00\n",
            "   1.08917864e+00  7.15092285e-01  1.20958480e-01  3.26060256e-01\n",
            "  -8.78008211e-01  8.13059765e-01  4.89794967e-02  1.28023463e-02\n",
            "  -2.24307694e-02 -1.81714403e-01  2.35477817e-02]\n",
            " [-8.92667128e+02 -1.31275109e+01  1.51501516e+01 -2.49726652e-01\n",
            "   5.12246575e-01  1.30158547e+00  2.17634143e-02  1.52034766e-01\n",
            "  -6.27105710e-01  8.68955606e-01  7.94558757e-02  3.57837122e-02\n",
            "  -4.66309537e-02 -1.57691702e-01  3.32687266e-02]\n",
            " [ 1.22319791e+03  1.84266019e+01 -8.33075730e+00 -2.88390642e+00\n",
            "   1.37626869e+00  2.09353221e+00 -5.76430654e-01 -1.98290713e-01\n",
            "   5.41186312e-01 -1.20095644e-01 -3.15565370e-01 -7.21233779e-01\n",
            "  -3.81991578e-01 -1.83276408e-01 -5.66756735e-02]\n",
            " [-7.88660640e+02 -1.58195075e+01  1.46965043e+01 -2.08830550e+00\n",
            "   6.31962108e-01 -4.07330819e-01  8.53897146e-04  2.45751634e-02\n",
            "  -6.91322721e-01 -2.46691817e-01 -4.10794912e-01  7.13365057e-01\n",
            "  -3.26401528e-01 -2.81015718e-01  1.43082950e-02]\n",
            " [-5.43807885e+02  7.90347822e+00 -1.11891787e+01 -7.33865187e-01\n",
            "  -1.26411660e+00  3.60587824e-01 -7.31230110e-01 -5.45450958e-01\n",
            "   7.17330033e-02 -2.30880466e-01  8.44586950e-01  2.25938696e-02\n",
            "  -1.00836308e-01 -5.10459533e-02 -1.73751487e-02]\n",
            " [-5.94743059e+02  1.08529905e+01  8.14825715e+00  1.21608263e-01\n",
            "  -7.62679095e-02 -1.18686455e-01  8.75013282e-02  4.88083690e-02\n",
            "  -9.58535742e-01 -1.56219175e-01 -8.05996192e-02 -3.31544270e-03\n",
            "   4.73294459e-02  4.06992118e-01  8.74215391e-01]\n",
            " [ 1.13829834e+03 -8.68304558e+00  4.33970118e+00  5.99363789e+00\n",
            "  -1.01249175e+00 -2.82425208e-01 -1.85211492e-01  6.58532433e-01\n",
            "   4.78431286e-02 -1.28430697e-01 -4.68348945e-02 -1.72227058e-02\n",
            "   1.94687953e-02  7.04403017e-01 -6.03447122e-01]\n",
            " [-4.49765978e+02  2.63481209e+01  9.60959079e+00 -6.19694769e+00\n",
            "  -9.28912814e-02 -1.79085853e-01 -6.09402611e-01 -1.62341393e-01\n",
            "   5.79389669e-02 -2.01629198e-01 -3.94188160e-01  7.01937608e-01\n",
            "  -3.12424378e-01 -1.42902255e-01 -2.85956282e-02]\n",
            " [-2.72676863e+02  1.26880832e+01  2.60483384e+01  9.15953492e-02\n",
            "  -5.36956803e-01 -9.25386344e-01 -6.89751822e-01 -4.23573675e-01\n",
            "  -9.53380325e-03 -2.67045751e-01  8.24525974e-01  3.89063128e-02\n",
            "  -7.66486117e-02 -5.51818035e-02 -1.10655549e-02]\n",
            " [-8.86810053e+01 -4.14396002e+01 -7.31477158e+00 -7.72502974e-01\n",
            "  -6.96720325e-01 -6.91309735e-01 -1.60018417e-01  7.73251456e-01\n",
            "   3.09319114e-01 -1.39864737e-01 -5.13537874e-02 -2.42014170e-02\n",
            "   1.44404693e-02  7.16090203e-01 -6.05238583e-01]\n",
            " [-5.68625757e+02 -3.13145183e+01  1.41562548e+01 -3.37579635e+00\n",
            "  -5.71841750e-01 -1.55000649e-01 -2.31248998e-01  9.63591527e-01\n",
            "   3.84159190e-01 -2.63954777e-01 -3.78011444e-01  6.93449259e-01\n",
            "  -3.53977086e-01 -3.01546404e-01 -9.04276435e-02]\n",
            " [ 2.26379101e+02 -3.75235196e+01  9.81253613e+00 -3.32764016e+00\n",
            "   9.12306156e-01 -2.94861612e-01  4.24108631e-02  2.03513371e-01\n",
            "  -5.61869680e-01  8.45067360e-01  5.36789322e-02  1.98202351e-02\n",
            "  -2.51088483e-02 -1.33531959e-01  3.66762414e-02]\n",
            " [-6.71671674e+02 -2.44865410e+01  7.53405034e+00  4.92430979e+00\n",
            "  -1.59526888e+00 -1.80524359e+00  5.63085971e-01 -6.96199130e-01\n",
            "   1.40911667e-01 -1.52975442e-01 -3.69208044e-01  7.29671343e-01\n",
            "  -3.40751417e-01 -1.80180635e-01 -3.33596442e-02]\n",
            " [-7.02753152e+02 -2.14583228e+01 -1.30668704e+01  4.59824094e-01\n",
            "   1.57079802e+00  4.95796020e-01  1.33455638e-01 -7.37520146e-02\n",
            "  -3.94451117e-01 -9.83151562e-02 -4.58110940e-02 -1.50349469e-02\n",
            "   1.41232528e-03  4.17732625e-01  8.66293065e-01]\n",
            " [ 3.81246897e+02 -9.23365276e+00 -9.42835205e+00 -3.65236744e+00\n",
            "  -1.84177608e-01  7.94450400e-01 -6.41583474e-01 -2.10646796e-01\n",
            "   3.45575078e-01  9.49870428e-01  9.93734174e-02  1.14918476e-02\n",
            "  -3.65364223e-02  2.08748894e-02 -3.44615643e-03]\n",
            " [-5.79698126e+02  3.53253371e+00  1.57664021e+01 -1.93510129e-01\n",
            "  -2.87792187e-01 -4.32125228e-01  7.08417509e-01 -2.87054153e-01\n",
            "   1.89279446e-01 -3.03099591e-01  8.42001554e-01  4.32517726e-02\n",
            "  -1.32296372e-01 -1.96369778e-01 -5.46843253e-02]\n",
            " [-7.93699777e+02 -2.12837320e+01  1.35267896e+00 -6.09738780e-01\n",
            "   6.63201584e+00 -3.00056862e+00 -1.65979652e-01 -6.26639471e-01\n",
            "   1.11142945e+00 -2.61944699e-02 -3.17561332e-02 -2.93398055e-02\n",
            "   6.16058460e-03  9.12657823e-01 -5.49851044e-01]\n",
            " [ 2.11926901e+03  1.34891092e+01  5.92350486e+00  4.28853069e-02\n",
            "  -3.90261154e-01 -2.96890559e-02  7.50610386e-01 -4.64366695e-02\n",
            "   7.05493493e-02  8.69492987e-01  8.18001177e-02  1.90629978e-02\n",
            "  -4.59938883e-02 -1.22947484e-01 -3.91862473e-02]\n",
            " [-2.20647963e+02 -4.42736302e+01  9.11775940e-01  3.02647828e+00\n",
            "   1.34105011e+00  9.58019989e-01 -4.18030122e-02 -2.23870473e-01\n",
            "  -2.30126830e-01 -1.42912403e-01 -3.31269348e-01 -6.97268740e-01\n",
            "  -3.84022459e-01 -2.80070051e-01  1.75932626e-03]\n",
            " [ 1.82218255e+03  1.81936461e+01 -1.13022933e+01  1.34820608e+01\n",
            "   1.24464743e-01  1.73911019e+00 -7.04130068e-01 -8.77892530e-01\n",
            "   3.33342535e-01  1.06543404e+00  1.50209234e-01  2.55362911e-02\n",
            "  -6.72654686e-02  4.84533225e-02  1.34885470e-02]\n",
            " [-9.11777789e+02  6.75246887e+00 -2.83936503e+00 -5.54630176e-01\n",
            "   8.30099126e-02 -8.26966755e-01 -5.72512413e-02  8.01448076e-01\n",
            "   9.11974939e-02  8.16246294e-01  8.13637521e-02 -1.62666966e-02\n",
            "  -3.04385884e-02 -1.38081244e-01 -6.78818009e-02]\n",
            " [ 4.34284287e+02  4.73718657e+00  9.80077510e+00  3.28855932e+00\n",
            "   2.69299897e-01  7.71990417e-01 -6.93151450e-01 -5.35861757e-01\n",
            "   3.75627801e-01 -8.78162485e-02 -3.15505773e-01 -6.97286066e-01\n",
            "  -3.58580091e-01 -1.30498671e-01 -3.24562040e-02]\n",
            " [-5.20658321e+02 -3.17568490e+01  4.95921607e+00 -3.91673396e+00\n",
            "  -1.05524117e-01 -1.54112578e+00 -7.03431159e-01 -4.45006310e-01\n",
            "   3.76240882e-01 -1.47405397e-01 -3.85156922e-01  7.06796189e-01\n",
            "  -3.14237053e-01 -7.85124168e-02 -1.12968988e-02]\n",
            " [-8.83716373e+02 -2.13962955e+01 -2.42299530e+00  2.22868607e+00\n",
            "   9.38875034e-01  1.65858074e+00 -2.64366936e-02 -1.56280733e-01\n",
            "  -4.17585153e-01 -2.74442850e-01  8.49302312e-01  3.38840008e-02\n",
            "  -1.51021877e-01 -2.37569004e-01  7.94992186e-03]\n",
            " [ 2.34206988e+02 -1.25000928e+01 -1.95404242e+01  8.46168596e+00\n",
            "  -3.57478048e+00  2.59343086e+00 -3.94438092e-01  5.06332426e-01\n",
            "   6.30625535e-04 -5.71157302e-02 -5.27203414e-03  7.47869303e-04\n",
            "  -1.83017327e-02  6.95673677e-01 -5.96738180e-01]\n",
            " [-3.86586761e+01 -3.96723012e+01 -4.07051847e-01 -6.07213798e-01\n",
            "  -1.06275574e+00  4.61551064e-01  6.30077808e-01 -2.04634472e-01\n",
            "   4.57785659e-01  9.31648600e-01  1.13008676e-01  3.87751036e-02\n",
            "  -7.46763887e-02 -8.85776649e-02 -2.86900854e-02]\n",
            " [-4.09736756e+02 -7.95108192e+00 -3.13507138e+00 -8.54828077e+00\n",
            "   1.29322732e-01  5.64175893e-03 -6.24676960e-01 -1.80405670e-01\n",
            "   3.62043830e-01 -1.62482275e-01 -3.51891213e-01 -7.16041954e-01\n",
            "  -3.36835528e-01 -1.39469617e-01 -3.97743657e-02]\n",
            " [ 3.91349297e+02 -4.19119670e+01 -2.58097327e-01  1.74078605e+00\n",
            "   7.73087060e-01  1.30821158e-01 -6.71900388e-02 -1.55177915e-01\n",
            "  -4.18997840e-01 -1.86561121e-01 -3.86302632e-01  7.09105909e-01\n",
            "  -3.52637564e-01 -2.63537880e-01  1.54763850e-02]\n",
            " [-7.51788068e+02  2.34593520e+01  5.07040711e+00  6.94596805e+00\n",
            "  -5.00688756e-01 -1.84914344e-01 -9.22813194e-02  5.42405967e-01\n",
            "  -7.37738002e-02 -1.33713126e-01 -3.91888387e-02 -1.60600888e-02\n",
            "   1.85675501e-02  7.00014716e-01 -6.06174266e-01]\n",
            " [-8.83644840e+02 -2.23345270e+01  1.64768086e+01  4.51160872e+00\n",
            "  -9.70650344e-01 -2.48407126e-01 -2.74583008e-01  5.53415979e-01\n",
            "   2.73692121e-01 -1.97118595e-01 -3.26594007e-01 -7.08977740e-01\n",
            "  -3.61808221e-01 -2.79758780e-01 -8.90471115e-02]\n",
            " [ 1.72285587e+02 -1.80842815e+01 -3.18189826e+00 -3.85592769e-01\n",
            "  -3.60688652e-01 -5.86870508e-01 -5.41449284e-02 -1.61600323e-01\n",
            "  -8.40574377e-01 -2.15738908e-01 -3.83296411e-01 -7.11020141e-01\n",
            "  -3.22775091e-01 -2.67403086e-01  9.05950559e-03]\n",
            " [-4.81786456e+02  1.27140458e+01 -3.10496246e+00 -2.52419049e+00\n",
            "  -1.09822279e-01  3.38988793e-01  8.36937260e-01 -9.54920715e-02\n",
            "   2.65481310e-01 -1.11999251e-01 -3.28805747e-02 -2.66439833e-03\n",
            "  -7.71320837e-03  4.24484997e-01  7.93463012e-01]\n",
            " [-2.12842491e+02  4.62124947e+01  5.57961355e-01 -3.85387814e+00\n",
            "  -1.43529225e+00 -1.84106219e-01  7.30052776e-01 -1.27711219e-01\n",
            "  -2.45500726e-01 -2.58703358e-01 -3.98132783e-01  7.06031494e-01\n",
            "  -3.32691734e-01 -2.74979733e-01 -6.38151765e-02]]\n"
          ],
          "name": "stdout"
        }
      ]
    },
    {
      "cell_type": "markdown",
      "metadata": {
        "id": "4sw_JKLLbMcc"
      },
      "source": [
        "### 5.3.2.3 Random Forest. (10 pts)\n",
        "\n"
      ]
    },
    {
      "cell_type": "markdown",
      "metadata": {
        "id": "UwTfPha2TUub"
      },
      "source": [
        "##### Step 1: Hyperparameter tuning. \n",
        "Use grid search and train a random forest model on the transformed train dataset. Take a look at the sklearn `RandomForestRegressor` documentation and tune the max_depth hyperparameter using grid search. We have already tested the number of estimators hyperparameter for you. Note this section may take a while to run depending on how large your grid is. \n",
        "\n",
        "(Hint: refer to the GridSearchCV documentation and do some reading on how the max_depth in a RF model affects the result - while theory may help guide a rough estimate of possible hyperparameters, we can cross validate values using tools like GridSearch.\n",
        "\n",
        "Our autograder has tiered points for this question depending on your final MSE value but is fairly generous; we are not requiring that you find the **most** optimal value for this hyperparameter but rather demonstrate understanding of grid search optimization. (4 pts)\n"
      ]
    },
    {
      "cell_type": "code",
      "metadata": {
        "id": "W08Wd5JKZWyz",
        "colab": {
          "base_uri": "https://localhost:8080/",
          "height": 983
        },
        "outputId": "22d70532-cb30-4c94-a4cf-f74c23a14ef6"
      },
      "source": [
        "from sklearn.ensemble import RandomForestRegressor\n",
        "from sklearn.model_selection import GridSearchCV\n",
        "# Add your code here\n",
        "# Only tune the max depth of the trees in the RF hyperparameter.\n",
        "rf = RandomForestRegressor()\n",
        "# depth = []\n",
        "depth = [3,5]\n",
        "# nEstimator = [140]\n",
        "nEstimator = [140]\n",
        "# Create the parameter grid\n",
        "param_grid = {\n",
        "    'max_depth': depth,\n",
        "    'n_estimators': nEstimator\n",
        "}\n",
        "#instantiate GridSearchCV with the abvove parameter grid\n",
        "#apply 10 fold cross validation\n",
        "#\n",
        "grid_search = GridSearchCV(estimator = rf, param_grid = param_grid, cv = 10) \n",
        "grid_search.fit(x_train, y_train)\n"
      ],
      "execution_count": 193,
      "outputs": [
        {
          "output_type": "stream",
          "text": [
            "/usr/local/lib/python3.6/dist-packages/sklearn/model_selection/_validation.py:515: DataConversionWarning: A column-vector y was passed when a 1d array was expected. Please change the shape of y to (n_samples,), for example using ravel().\n",
            "  estimator.fit(X_train, y_train, **fit_params)\n",
            "/usr/local/lib/python3.6/dist-packages/sklearn/model_selection/_validation.py:515: DataConversionWarning: A column-vector y was passed when a 1d array was expected. Please change the shape of y to (n_samples,), for example using ravel().\n",
            "  estimator.fit(X_train, y_train, **fit_params)\n",
            "/usr/local/lib/python3.6/dist-packages/sklearn/model_selection/_validation.py:515: DataConversionWarning: A column-vector y was passed when a 1d array was expected. Please change the shape of y to (n_samples,), for example using ravel().\n",
            "  estimator.fit(X_train, y_train, **fit_params)\n",
            "/usr/local/lib/python3.6/dist-packages/sklearn/model_selection/_validation.py:515: DataConversionWarning: A column-vector y was passed when a 1d array was expected. Please change the shape of y to (n_samples,), for example using ravel().\n",
            "  estimator.fit(X_train, y_train, **fit_params)\n",
            "/usr/local/lib/python3.6/dist-packages/sklearn/model_selection/_validation.py:515: DataConversionWarning: A column-vector y was passed when a 1d array was expected. Please change the shape of y to (n_samples,), for example using ravel().\n",
            "  estimator.fit(X_train, y_train, **fit_params)\n",
            "/usr/local/lib/python3.6/dist-packages/sklearn/model_selection/_validation.py:515: DataConversionWarning: A column-vector y was passed when a 1d array was expected. Please change the shape of y to (n_samples,), for example using ravel().\n",
            "  estimator.fit(X_train, y_train, **fit_params)\n",
            "/usr/local/lib/python3.6/dist-packages/sklearn/model_selection/_validation.py:515: DataConversionWarning: A column-vector y was passed when a 1d array was expected. Please change the shape of y to (n_samples,), for example using ravel().\n",
            "  estimator.fit(X_train, y_train, **fit_params)\n",
            "/usr/local/lib/python3.6/dist-packages/sklearn/model_selection/_validation.py:515: DataConversionWarning: A column-vector y was passed when a 1d array was expected. Please change the shape of y to (n_samples,), for example using ravel().\n",
            "  estimator.fit(X_train, y_train, **fit_params)\n",
            "/usr/local/lib/python3.6/dist-packages/sklearn/model_selection/_validation.py:515: DataConversionWarning: A column-vector y was passed when a 1d array was expected. Please change the shape of y to (n_samples,), for example using ravel().\n",
            "  estimator.fit(X_train, y_train, **fit_params)\n",
            "/usr/local/lib/python3.6/dist-packages/sklearn/model_selection/_validation.py:515: DataConversionWarning: A column-vector y was passed when a 1d array was expected. Please change the shape of y to (n_samples,), for example using ravel().\n",
            "  estimator.fit(X_train, y_train, **fit_params)\n",
            "/usr/local/lib/python3.6/dist-packages/sklearn/model_selection/_validation.py:515: DataConversionWarning: A column-vector y was passed when a 1d array was expected. Please change the shape of y to (n_samples,), for example using ravel().\n",
            "  estimator.fit(X_train, y_train, **fit_params)\n",
            "/usr/local/lib/python3.6/dist-packages/sklearn/model_selection/_validation.py:515: DataConversionWarning: A column-vector y was passed when a 1d array was expected. Please change the shape of y to (n_samples,), for example using ravel().\n",
            "  estimator.fit(X_train, y_train, **fit_params)\n",
            "/usr/local/lib/python3.6/dist-packages/sklearn/model_selection/_validation.py:515: DataConversionWarning: A column-vector y was passed when a 1d array was expected. Please change the shape of y to (n_samples,), for example using ravel().\n",
            "  estimator.fit(X_train, y_train, **fit_params)\n",
            "/usr/local/lib/python3.6/dist-packages/sklearn/model_selection/_validation.py:515: DataConversionWarning: A column-vector y was passed when a 1d array was expected. Please change the shape of y to (n_samples,), for example using ravel().\n",
            "  estimator.fit(X_train, y_train, **fit_params)\n",
            "/usr/local/lib/python3.6/dist-packages/sklearn/model_selection/_validation.py:515: DataConversionWarning: A column-vector y was passed when a 1d array was expected. Please change the shape of y to (n_samples,), for example using ravel().\n",
            "  estimator.fit(X_train, y_train, **fit_params)\n",
            "/usr/local/lib/python3.6/dist-packages/sklearn/model_selection/_validation.py:515: DataConversionWarning: A column-vector y was passed when a 1d array was expected. Please change the shape of y to (n_samples,), for example using ravel().\n",
            "  estimator.fit(X_train, y_train, **fit_params)\n",
            "/usr/local/lib/python3.6/dist-packages/sklearn/model_selection/_validation.py:515: DataConversionWarning: A column-vector y was passed when a 1d array was expected. Please change the shape of y to (n_samples,), for example using ravel().\n",
            "  estimator.fit(X_train, y_train, **fit_params)\n",
            "/usr/local/lib/python3.6/dist-packages/sklearn/model_selection/_validation.py:515: DataConversionWarning: A column-vector y was passed when a 1d array was expected. Please change the shape of y to (n_samples,), for example using ravel().\n",
            "  estimator.fit(X_train, y_train, **fit_params)\n",
            "/usr/local/lib/python3.6/dist-packages/sklearn/model_selection/_validation.py:515: DataConversionWarning: A column-vector y was passed when a 1d array was expected. Please change the shape of y to (n_samples,), for example using ravel().\n",
            "  estimator.fit(X_train, y_train, **fit_params)\n",
            "/usr/local/lib/python3.6/dist-packages/sklearn/model_selection/_validation.py:515: DataConversionWarning: A column-vector y was passed when a 1d array was expected. Please change the shape of y to (n_samples,), for example using ravel().\n",
            "  estimator.fit(X_train, y_train, **fit_params)\n",
            "/usr/local/lib/python3.6/dist-packages/sklearn/model_selection/_search.py:739: DataConversionWarning: A column-vector y was passed when a 1d array was expected. Please change the shape of y to (n_samples,), for example using ravel().\n",
            "  self.best_estimator_.fit(X, y, **fit_params)\n"
          ],
          "name": "stderr"
        },
        {
          "output_type": "error",
          "ename": "AttributeError",
          "evalue": "ignored",
          "traceback": [
            "\u001b[0;31m---------------------------------------------------------------------------\u001b[0m",
            "\u001b[0;31mAttributeError\u001b[0m                            Traceback (most recent call last)",
            "\u001b[0;32m<ipython-input-193-5b165f5fb580>\u001b[0m in \u001b[0;36m<module>\u001b[0;34m()\u001b[0m\n\u001b[1;32m     19\u001b[0m \u001b[0mgrid_search\u001b[0m\u001b[0;34m.\u001b[0m\u001b[0mfit\u001b[0m\u001b[0;34m(\u001b[0m\u001b[0mx_train\u001b[0m\u001b[0;34m,\u001b[0m \u001b[0my_train\u001b[0m\u001b[0;34m)\u001b[0m\u001b[0;34m\u001b[0m\u001b[0;34m\u001b[0m\u001b[0m\n\u001b[1;32m     20\u001b[0m \u001b[0;34m\u001b[0m\u001b[0m\n\u001b[0;32m---> 21\u001b[0;31m \u001b[0mprint\u001b[0m\u001b[0;34m(\u001b[0m\u001b[0mgrid_search\u001b[0m\u001b[0;34m.\u001b[0m\u001b[0mgrid_scores_\u001b[0m\u001b[0;34m)\u001b[0m\u001b[0;34m\u001b[0m\u001b[0;34m\u001b[0m\u001b[0m\n\u001b[0m\u001b[1;32m     22\u001b[0m \u001b[0mprint\u001b[0m\u001b[0;34m(\u001b[0m\u001b[0mgrid_search\u001b[0m\u001b[0;34m.\u001b[0m\u001b[0mbest_params_\u001b[0m\u001b[0;34m)\u001b[0m\u001b[0;34m\u001b[0m\u001b[0;34m\u001b[0m\u001b[0m\n\u001b[1;32m     23\u001b[0m \u001b[0mprint\u001b[0m\u001b[0;34m(\u001b[0m\u001b[0;34m\"best accuracy:%f\"\u001b[0m \u001b[0;34m%\u001b[0m \u001b[0mgd\u001b[0m\u001b[0;34m.\u001b[0m\u001b[0mbest_score_\u001b[0m\u001b[0;34m)\u001b[0m\u001b[0;34m\u001b[0m\u001b[0;34m\u001b[0m\u001b[0m\n",
            "\u001b[0;31mAttributeError\u001b[0m: 'GridSearchCV' object has no attribute 'grid_scores_'"
          ]
        }
      ]
    },
    {
      "cell_type": "code",
      "metadata": {
        "colab": {
          "base_uri": "https://localhost:8080/"
        },
        "id": "Ie86FxyBu5uW",
        "outputId": "55b2dc7f-3e20-4e7c-bc30-e2a6a2cc2e29"
      },
      "source": [
        "\r\n",
        "print(grid_search.best_score_)\r\n",
        "print(grid_search.best_params_)"
      ],
      "execution_count": 195,
      "outputs": [
        {
          "output_type": "stream",
          "text": [
            "0.7944276182278478\n",
            "{'max_depth': 5, 'n_estimators': 140}\n"
          ],
          "name": "stdout"
        }
      ]
    },
    {
      "cell_type": "markdown",
      "metadata": {
        "id": "cLnVsNVzS2Co"
      },
      "source": [
        "##### Step 2: Fitting RF\n",
        "Fit the random forest on the training data using the parameters you computed above. Then make predictions on the test set, report the root mean squared error for the test set. (3 pts)"
      ]
    },
    {
      "cell_type": "code",
      "metadata": {
        "id": "3avoNnIaZe3P"
      },
      "source": [
        "# Add your code here\n",
        "# Set n_estimators = 140\n",
        "y_pred = grid_search.predict(x_test_2)"
      ],
      "execution_count": 196,
      "outputs": []
    },
    {
      "cell_type": "code",
      "metadata": {
        "id": "XYrdo2CgTThM",
        "colab": {
          "base_uri": "https://localhost:8080/"
        },
        "outputId": "b9993a09-e826-4022-8c95-2eafe6aed182"
      },
      "source": [
        "# Print cell\n",
        "print('check_rf', (np.sqrt(mean_squared_error(y_test, y_pred))))"
      ],
      "execution_count": 197,
      "outputs": [
        {
          "output_type": "stream",
          "text": [
            "check_rf 0.8237750608417775\n"
          ],
          "name": "stdout"
        }
      ]
    },
    {
      "cell_type": "markdown",
      "metadata": {
        "id": "-ywlOaie7wVF"
      },
      "source": [
        "## Almost halfway there :)\n",
        "\n",
        "Well done! Almost halfway there :)\n",
        "\n"
      ]
    },
    {
      "cell_type": "markdown",
      "metadata": {
        "id": "q_eSiS5ZbVjf"
      },
      "source": [
        "# Section 2 : Distributed Machine Learning with Spark (55 Points)\n",
        "\n",
        "Apache Spark ML is the machine learning library consisting of common learning algorithms and utilities, including classification, regression, clustering, collaborative filtering, dimensionality reduction, and underlying optimization primitives.\n",
        "\n",
        "Why Spark ML?\n",
        "\n",
        "Moving to the Big Data Era requires heavy iterative computations on very big datasets. Standard implementations of machine learning algorithms require very powerful machines to be able to run. Depending on high-end machines is not advantageous due to their high price and improper costs of scaling up. The idea of using distributed computing engines is to distribute the calculations to multiple low-end machines (commodity hardware) instead of a single high-end one. This definitely speeds up the learning phase and allows us to create better models.\n",
        "\n",
        "Read more about it with the python documentation [here](https://spark.apache.org/docs/latest/ml-guide.html)"
      ]
    },
    {
      "cell_type": "markdown",
      "metadata": {
        "id": "R4nyIijZhTXK"
      },
      "source": [
        "### Initializing Spark Connection - Boring setup stuff again\n"
      ]
    },
    {
      "cell_type": "code",
      "metadata": {
        "id": "G8RH4R771X6n"
      },
      "source": [
        "!apt install libkrb5-dev\n",
        "!wget https://www-us.apache.org/dist/spark/spark-2.4.5/spark-2.4.5-bin-hadoop2.7.tgz\n",
        "!tar xf spark-2.4.5-bin-hadoop2.7.tgz\n",
        "!pip install findspark\n",
        "!pip install sparkmagic\n",
        "!pip install pyspark\n",
        "!pip install pyspark --user\n",
        "!pip install seaborn --user\n",
        "!pip install plotly --user\n",
        "!pip install imageio --user\n",
        "!pip install folium --user"
      ],
      "execution_count": null,
      "outputs": []
    },
    {
      "cell_type": "code",
      "metadata": {
        "id": "pNctzcXRkexY"
      },
      "source": [
        "!apt update\n",
        "!apt install gcc python-dev libkrb5-dev"
      ],
      "execution_count": null,
      "outputs": []
    },
    {
      "cell_type": "code",
      "metadata": {
        "id": "PP28kxLekWG7"
      },
      "source": [
        "from pyspark.sql import SparkSession\n",
        "from pyspark.sql.types import *\n",
        "import pyspark.sql.functions as F\n",
        "\n",
        "import os\n",
        "\n",
        "spark = SparkSession.builder.appName('CA-5').getOrCreate()\n"
      ],
      "execution_count": null,
      "outputs": []
    },
    {
      "cell_type": "code",
      "metadata": {
        "id": "7Gm6aXPq1Ulc"
      },
      "source": [
        "%load_ext sparkmagic.magics"
      ],
      "execution_count": null,
      "outputs": []
    },
    {
      "cell_type": "code",
      "metadata": {
        "id": "NiGROEgu1gfN"
      },
      "source": [
        "#graph section\n",
        "import networkx as nx\n",
        "# SQLite RDBMS\n",
        "import sqlite3\n",
        "# Parallel processing\n",
        "# import swifter\n",
        "import pandas as pd\n",
        "# NoSQL DB\n",
        "from pymongo import MongoClient\n",
        "from pymongo.errors import DuplicateKeyError, OperationFailure\n",
        "\n",
        "import os\n",
        "os.environ['SPARK_HOME'] = '/content/spark-2.4.5-bin-hadoop2.7'\n",
        "os.environ[\"JAVA_HOME\"] = \"/usr/lib/jvm/java-8-openjdk-amd64\"\n",
        "import pyspark\n",
        "from pyspark.sql import SQLContext"
      ],
      "execution_count": null,
      "outputs": []
    },
    {
      "cell_type": "code",
      "metadata": {
        "id": "bF0xipwC1hme"
      },
      "source": [
        "try:\n",
        "    if(spark == None):\n",
        "        spark = SparkSession.builder.appName('Initial').getOrCreate()\n",
        "        sqlContext=SQLContext(spark)\n",
        "except NameError:\n",
        "    spark = SparkSession.builder.appName('Initial').getOrCreate()\n",
        "    sqlContext=SQLContext(spark)\n"
      ],
      "execution_count": null,
      "outputs": []
    },
    {
      "cell_type": "markdown",
      "metadata": {
        "id": "cbj7zOGQW7A2"
      },
      "source": [
        "### 5.1 Data Preparation for Spark ML (20 points)\n",
        "\n",
        "Once the spark setup ready. Next, we need the prepared data for our ML algorithms. We will use the same data you processed in Section 1 but now in spark. \n",
        "\n",
        "Read in the csv  into a spark dataframe. Set the \"inferSchema\" flag to True so that the columns are the correct datatypes and not all strings. Further, set the parameter to the first row as column headers."
      ]
    },
    {
      "cell_type": "code",
      "metadata": {
        "id": "EFfs7q3P1KHX"
      },
      "source": [
        "# Add your code here\n",
        "\n",
        "schema = \"\"\" `id`  String, \n",
        "`trending_date`  DATE, \n",
        "`title`  STRING, \n",
        "`channel_title`  STRING, \n",
        "`category_id`  INT, \n",
        "`publish_time`  DATETIME, \n",
        "`tags`  STRING, \n",
        "`views`  STRING, \n",
        "`likes`  STRING, \n",
        "`dislikes`  STRING, \n",
        "`comment_count`  INT, \n",
        "`thumbnail_link`  STRING, \n",
        "`comments_disabled`  BOOL, \n",
        "`ratings_disabled`  BOOL, \n",
        "`video_error_or_removed`  BOOL, \n",
        "`description`  STRING \"\"\" \n",
        "\n",
        "train_sdf = sqlContext.read\n",
        "       .format(\"csv\")\n",
        "       .option(\"header\", \"true\")\n",
        "       .load(\"/content/youtube_data/*.csv\", schema=schema) "
      ],
      "execution_count": null,
      "outputs": []
    },
    {
      "cell_type": "markdown",
      "metadata": {
        "id": "CbC1qlzhXd6L"
      },
      "source": [
        "Let us make sure everything is smooth to proceed"
      ]
    },
    {
      "cell_type": "code",
      "metadata": {
        "id": "sTb1GN4-1EXc"
      },
      "source": [
        "train_sdf.show()"
      ],
      "execution_count": null,
      "outputs": []
    },
    {
      "cell_type": "markdown",
      "metadata": {
        "id": "NFWmORJ8XhX_"
      },
      "source": [
        "Print out the dataframe schema and verify the datatypes"
      ]
    },
    {
      "cell_type": "code",
      "metadata": {
        "id": "22b4aWjueZuO"
      },
      "source": [
        "#Task: Print the dataframe schema and verify\n",
        "# Add your code here\n",
        "train_sdf.printSchema()"
      ],
      "execution_count": null,
      "outputs": []
    },
    {
      "cell_type": "markdown",
      "metadata": {
        "id": "fJ34pkSeXn3G"
      },
      "source": [
        "Now, we have the processed data in hand. Next for the Spark ML, we need to create a feature column that has all features concatenated and a single column for labels.\n",
        "\n",
        "You can use VectorAssembler() to create a feature vector from all categorical and numerical features. Let us call the call the final vector as “features”.\n",
        "\n",
        "Now, list all columns in the data and store it in a list named 'all_columns'\n"
      ]
    },
    {
      "cell_type": "code",
      "metadata": {
        "id": "HwWWc_0Ttyg4"
      },
      "source": [
        "from pyspark.ml.feature import StringIndexer, VectorAssembler"
      ],
      "execution_count": null,
      "outputs": []
    },
    {
      "cell_type": "code",
      "metadata": {
        "id": "XIcLnx7bt7Q8"
      },
      "source": [
        "# Add your code here\n",
        "all_columns = ['video_id','trending_date','title','channel_title', \\\n",
        "               'category_id','publish_time','tags','views','likes', \\\n",
        "               'dislikes','comment_count','thumbnail_link','comments_disabled', \\\n",
        "               'ratings_disabled','video_error_or_removed','description']# Task"
      ],
      "execution_count": null,
      "outputs": []
    },
    {
      "cell_type": "markdown",
      "metadata": {
        "id": "BqiuAgWxh2yv"
      },
      "source": [
        "Now create a list of columns which you don't wan't to include in your features, i.e., the labels and probably other columns which are not useful for the machine learning model. Let us call this list drop_columns."
      ]
    },
    {
      "cell_type": "code",
      "metadata": {
        "id": "B-_2Tsy5uzIo"
      },
      "source": [
        "# Add your code here\n",
        "drop_columns = ['video_id','channel_title','title']# Task"
      ],
      "execution_count": null,
      "outputs": []
    },
    {
      "cell_type": "code",
      "metadata": {
        "id": "GWgiDQuciHKt"
      },
      "source": [
        "columns_to_use = [i for i in all_columns if i not in drop_columns]"
      ],
      "execution_count": null,
      "outputs": []
    },
    {
      "cell_type": "markdown",
      "metadata": {
        "id": "V4kOg6TWiOcm"
      },
      "source": [
        "Now create a VectorAssembler object with columns you want to use for the ML models. Let us Name the output column as 'features'. These are the features that you will use later.  Let us name the vector assembler object 'assembler'"
      ]
    },
    {
      "cell_type": "code",
      "metadata": {
        "id": "cPl796SvpvoU"
      },
      "source": [
        "# Add your code\n",
        "\n",
        "features = \"features\" #!!!!!!!!!!!!!!\n",
        "assembler = VectorAssembler(inputCols = columns_to_use, outputCol = features)\n"
      ],
      "execution_count": null,
      "outputs": []
    },
    {
      "cell_type": "code",
      "metadata": {
        "id": "5LlUa9NRQMOT"
      },
      "source": [
        "# Print assember stats\n",
        "print('stat_assembler', (str(assembler.params), columns_to_use))"
      ],
      "execution_count": null,
      "outputs": []
    },
    {
      "cell_type": "markdown",
      "metadata": {
        "id": "X7_HC7cTif1k"
      },
      "source": [
        "Now, we are ready to create a pipeline with different stages.  For out data so far, we just a single stage with the assember, however, you could have other stages  before that where you perform operations on the data, e.g, transforming categorical strings to numeric values or feature scaling operations.\n",
        "\n",
        "In this step, we will create a pipeline with a single stage - the assembler. Fit the pipeline to your data and create the transformed dataframe and name it 'modified_data_sdf'."
      ]
    },
    {
      "cell_type": "code",
      "metadata": {
        "id": "iuO1Mu9IvTEz"
      },
      "source": [
        "from pyspark.ml import Pipeline\n",
        "\n",
        "# Add your code here\n",
        "modified_data_sdf = Pipeline(stages=assembler).fit(train_sdf).transform(train_sdf)"
      ],
      "execution_count": null,
      "outputs": []
    },
    {
      "cell_type": "code",
      "metadata": {
        "id": "KwlFEWKwXbRd"
      },
      "source": [
        "#Print results\n",
        "pipeline_stat = pd.DataFrame(modified_data_sdf.take(5), columns=modified_data_sdf.columns)\n",
        "print('check_pipeline', (pipeline_stat.columns.values, pipeline_stat['features'][0].size))"
      ],
      "execution_count": null,
      "outputs": []
    },
    {
      "cell_type": "markdown",
      "metadata": {
        "id": "0TKEQEDkxFGf"
      },
      "source": [
        "Now that we have the required data in the right format, Let us create our train and test sets. Let us, split into an 80-20 ratio between the train and test sets. Name these 'train_sdf' and 'test_sdf'"
      ]
    },
    {
      "cell_type": "code",
      "metadata": {
        "id": "Jn4_0RHHxEYm"
      },
      "source": [
        "# Add your code here\n",
        "train_sdf, test_sdf = modified_data_sdf.randomSplit([0.8, 0.2], seed=42)"
      ],
      "execution_count": null,
      "outputs": []
    },
    {
      "cell_type": "code",
      "metadata": {
        "id": "TkvrG1lMbe9_"
      },
      "source": [
        "#Print results here\n",
        "print('check_split', (train_sdf.count(), test_sdf.count()))"
      ],
      "execution_count": null,
      "outputs": []
    },
    {
      "cell_type": "markdown",
      "metadata": {
        "id": "L_CKE8i8an4x"
      },
      "source": [
        "### 5.2 Linear regression using Spark ML (15 points)\n",
        "\n",
        "In this section, train s linear regression model to our data and predict the views. This prediction should be based on \"Big\" data tools, i.e., Spark ML's linear regression. Create a model using this library, fit the training data. \n",
        "Afterwards, print the summary stats of the model, i.e, \n",
        "- the RMSE error, R2 score and any other information you find useful. Refere the Spark ML documentation online for the implementation.\n",
        "\n",
        "In this section, we will train the model without any regularization!"
      ]
    },
    {
      "cell_type": "code",
      "metadata": {
        "id": "W9qJdpIU4e8q"
      },
      "source": [
        "from pyspark.ml.regression import LinearRegression\n",
        "\n",
        "# Add your code here\n",
        "lr = new LinearRegression()\n",
        "  .setMaxIter(10)\n",
        "  .setRegParam(0.3)\n",
        "  .setElasticNetParam(0.8)\n",
        "lr_model = lr.fit(train_sdf)"
      ],
      "execution_count": null,
      "outputs": []
    },
    {
      "cell_type": "code",
      "metadata": {
        "id": "M_n_gx3I-Icl"
      },
      "source": [
        "trainingSum = lr_model.summary\n",
        "\n",
        "print(\"RMSE: %f\" % trainingSum.rootMeanSquaredError)\n",
        "print(\"r2: %f\" % trainingSum.r2)\n",
        "\n"
      ],
      "execution_count": null,
      "outputs": []
    },
    {
      "cell_type": "markdown",
      "metadata": {
        "id": "kJT9Ov_irnXl"
      },
      "source": [
        "Let us investigate that if the model actually overfits the training data. \r\n",
        "\r\n",
        "Predict the views for your test data (Note: it is called 'transform' in spark ml). Evaluate the performance using 'RegressionEvaluator' in the Spark ML Regression library. Name prediction column as 'prediction'."
      ]
    },
    {
      "cell_type": "code",
      "metadata": {
        "id": "3sE9kv3ZsU7J"
      },
      "source": [
        "# Add your code here\n",
        "predictions = lr_model.transform(test_sdf)\n",
        "#http://spark.apache.org/docs/latest/ml-classification-regression.html#linear-regression\n",
        "evaluator = new RegressionEvaluator()\n",
        "  .setLabelCol(\"label\")\n",
        "  .setPredictionCol(\"prediction\")\n",
        "  .setMetricName(\"rmse\")"
      ],
      "execution_count": null,
      "outputs": []
    },
    {
      "cell_type": "code",
      "metadata": {
        "id": "TlqLeWSDsd__"
      },
      "source": [
        "from pyspark.ml.evaluation import RegressionEvaluator\n",
        "\n",
        "# Task: Compute RMSr on the test set\n",
        "\n",
        "test_rmse_orig = evaluator.evaluate(predictions)"
      ],
      "execution_count": null,
      "outputs": []
    },
    {
      "cell_type": "code",
      "metadata": {
        "id": "DuBHq2n8dCxs"
      },
      "source": [
        "#Print results here\n",
        "predictions_to_print = predictions.toPandas()\n",
        "lranswer = [test_rmse_orig, predictions_to_print['prediction'][0:50], predictions_to_print['label'][0:50]]\n",
        "print('result_lr_test', lranswer)"
      ],
      "execution_count": null,
      "outputs": []
    },
    {
      "cell_type": "markdown",
      "metadata": {
        "id": "pgEkOUYUsi5D"
      },
      "source": [
        "Next, we will implement regularization to avoid overfitting. you can try different  regularization parameters, e.g., try LASSO (L1), Ridge (L2) and elastic net (combination of L1 and L2).\r\n",
        "\r\n",
        "You can try different regularization hyperparameters to initialize three different regularized linear regression models. Compare these regularization methods with each other and the non-regularized method above.\r\n"
      ]
    },
    {
      "cell_type": "code",
      "metadata": {
        "id": "hhx5njucYKk2"
      },
      "source": [
        "# Add your code here\n",
        "# Compute predictions using each of the models\n",
        "l1_predictions = \n",
        "l2_predictions = \n",
        "elastic_net_predictions = \n",
        "\n",
        "# Task: Calculate the root mean squared error (RMSE) on test set for each of your models\n",
        "\n",
        "test_rmse_l1 = \n",
        "test_rmse_l2 = \n",
        "test_rmse_elastic = \n"
      ],
      "execution_count": null,
      "outputs": []
    },
    {
      "cell_type": "code",
      "metadata": {
        "id": "q0-fqj8MgY2S"
      },
      "source": [
        "# Print your results here\n",
        "result = [test_rmse_l1, test_rmse_l2, test_rmse_elastic]\n",
        "print('result_lr_all', result)"
      ],
      "execution_count": null,
      "outputs": []
    },
    {
      "cell_type": "markdown",
      "metadata": {
        "id": "O6ntJ6xFbbmn"
      },
      "source": [
        "### 5.3 Random Forest Regression 10 pts)\n",
        "\n",
        "You need an understanding of random forest and its variations,i.e., boosted trees to succeed as a data scientist. These are ensemble methods that are know for generalization and are considered popular for classification and regression problems. Similar to linear regresssion, create a random forest regressor model. After it, train the model using the data and then evaluate its performance using the test data. Finally, compare performance of random forest model with the linear regression model.\n",
        "\n"
      ]
    },
    {
      "cell_type": "code",
      "metadata": {
        "id": "8pjjP9GWuoml"
      },
      "source": [
        "from pyspark.ml.regression import RandomForestRegressor\n",
        "# Add your code here\n",
        "rf_model = new RandomForestRegressor()\n",
        "  .setLabelCol(\"label\")\n",
        "  .setFeaturesCol(\"indexedFeatures\").fit(train_sdf)#Task\n"
      ],
      "execution_count": null,
      "outputs": []
    },
    {
      "cell_type": "code",
      "metadata": {
        "id": "ruaaYA2jBlRK"
      },
      "source": [
        "# Add code here to calculate predictions\n",
        "predictions = rf_model.transform(test_sdf) #Task : Calculate predictions on the test set"
      ],
      "execution_count": null,
      "outputs": []
    },
    {
      "cell_type": "code",
      "metadata": {
        "id": "QyyZfbd6Brqs"
      },
      "source": [
        "from pyspark.ml.evaluation import RegressionEvaluator\n",
        "\n",
        "# Add your code here to instatiate a regressionevaluator \n",
        "\n",
        "train_rmse_rf = evaluator.evaluate(predictions) #Task: Compute the training RMSE\n",
        "rmse_rf = #Task: Compute RMSE using the test set"
      ],
      "execution_count": null,
      "outputs": []
    },
    {
      "cell_type": "code",
      "metadata": {
        "id": "fR09u5GFjvtb"
      },
      "source": [
        "#Print results of predictions here\n",
        "predictions_to_reveal = predictions.toPandas()\n",
        "answer = [train_rmse_rf, predictions_to_reveal['prediction'][0:50], predictions_to_reveal['label'][0:50], rmse_rf]\n",
        "print('check_rf_spark', answer)"
      ],
      "execution_count": null,
      "outputs": []
    },
    {
      "cell_type": "markdown",
      "metadata": {
        "id": "SH9cxYzla-lf"
      },
      "source": [
        "### 5.4 Dimensionality Reduction using Principal Component Analysis (10pt)\n",
        "\n",
        "The focus of this section is to utilize PCA to further reduce the dimensions of data, i.e., a lower dimensional space. After PCA perform linear regression on the new data. You can select a suitable value for the number of dimensions as calculated in previous section.\n",
        "\n",
        "The steps are illustrated below:\n",
        "1.   Initialization of PCA model\n",
        "2.   Fit the PCA model using the training data\n",
        "3.   Extract the PCA feature from the trained PCA model from step 2\n",
        "4.   Train a linear regression model using the retreived PCA features\n",
        "5.   Evaluate the trained model 's performance on the test set \n",
        "\n",
        "This section requires extra effort and therefore has less starter code. Spen time to understand and implement considering yourself a data scientist working on an assigned task.\n",
        "\n",
        "\n",
        "\n",
        "\n"
      ]
    },
    {
      "cell_type": "code",
      "metadata": {
        "id": "KXgSxHvgzJaS"
      },
      "source": [
        "# Add your code for the PCA model and training here\n",
        "\n",
        "pca_of_model = PCA(k=2,inputCol=\"std_features\",\n",
        "outputCol=\"pca_features\") #!!!!!!!!!!!!!!!!!!!\n",
        "\n",
        "train_rmse_pca_model = pca_of_model.fit(xxxfeatures).transform(xxxfeatures) #!!!!!!!!!!!!!!!!!!!!!!\n",
        "lr_model.fit(features, labels)\n"
      ],
      "execution_count": null,
      "outputs": []
    },
    {
      "cell_type": "code",
      "metadata": {
        "id": "TBnyAXQwl9Nt"
      },
      "source": [
        "# Add your code here\n",
        "predictions = lr_model.predict(train_rmse_pca_model) #Task: Retreive predictions on the test set\n",
        "\n",
        "test_rmse_pca_model = #Task: Retreive RMSE for test data\n"
      ],
      "execution_count": null,
      "outputs": []
    },
    {
      "cell_type": "code",
      "metadata": {
        "id": "nNdWfggtmEmx"
      },
      "source": [
        "# Add your code here\n",
        "predictions_to_grade = predictions.toPandas()\n",
        "answer = [training_rmse_pca, predictions_to_grade['prediction'][0:50], predictions_to_grade['label'][0:50], test_rmse_pca]\n",
        "print('check_pca_spark', answer)"
      ],
      "execution_count": null,
      "outputs": []
    },
    {
      "cell_type": "markdown",
      "metadata": {
        "id": "TyQ6tm6iYg_m"
      },
      "source": [
        "# Submission\n",
        "\n",
        "**Submission on the blackboard**. \n",
        "** PDF submission for the simalarity check and .ipynb for original submission **\n",
        "\n",
        "Go to the \"File\" tab at the top left, and click \"Download .ipynb\". Submit under 'scalableMachinelearning.ipynb'.\n",
        "\n",
        "You must submit your notebook to blackboard for the grading."
      ]
    }
  ]
}